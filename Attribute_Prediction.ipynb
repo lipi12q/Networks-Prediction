{
 "cells": [
  {
   "cell_type": "markdown",
   "metadata": {},
   "source": [
    "# Project 2: Graph Mining\n",
    "*Due Wednesday November 14th, 2018 at 11:59 pm*\n",
    "\n",
    "*Notebook Author: Koki Sasagawa*\n",
    "\n",
    "Mining a large social network to uncover how well homophily can predict identity as well as the network structure. \n",
    "\n",
    "**Task2:** Attribute Prediction - most of the nodes in the social network are provided with one or more attributes that can be drawn from different types. (e.g., age, occupation, musical preference, etc. ) Predict the probabilities of attributes for a set of completely unlabeled nodes\n",
    "\n",
    "## Data\n",
    "\n",
    "1. `labeled-vertices.train.tsv` & `labeled-vertices.dev.tsv` & `unlabeled-verticies.test.tsv` \n",
    "   - users with attributes formatted as the following: \n",
    "\n",
    "   > - **vertex1** T1:3 T7:1 T4:2\n",
    "   > - **vertex2** T2:4\n",
    "   > - **vertex3** T4:3 T3:1\n",
    "   \n",
    "   - Each value is specified as `AttributeType:Value`\n",
    "   - Not every user will have their attributes listed \n",
    "   - Majority users should have at least 2 attribute set\n",
    "2. `unlabeled-verticies.test.txt` - simply have list of vertices that should predict attributes and their values \n",
    "\n",
    "## Submission \n",
    "\n",
    "**Attribute prediction** should be a csv file with two columns: id and attr. \n",
    "The attr column should contain a space-deliminted list of the attributes you think the user with that id has. The file should have the following structure:\n",
    "\n",
    "> id, attr\n",
    "> \n",
    "> 123, T0:0 T1:1 \n"
   ]
  },
  {
   "cell_type": "code",
   "execution_count": 1,
   "metadata": {},
   "outputs": [],
   "source": [
    "# Import libraries\n",
    "import pandas as pd\n",
    "import numpy as np\n",
    "import networkx as nx\n",
    "import time\n",
    "# import os\n",
    "# from pprint import pprint"
   ]
  },
  {
   "cell_type": "markdown",
   "metadata": {},
   "source": [
    "## 1. Create Graph"
   ]
  },
  {
   "cell_type": "code",
   "execution_count": 2,
   "metadata": {},
   "outputs": [
    {
     "name": "stdout",
     "output_type": "stream",
     "text": [
      "Creating network graph...\n",
      "Network graph created. Process took 346.0024 seconds\n",
      "Number of edges: 30915267\n",
      "Number of nodes: 6626753\n"
     ]
    }
   ],
   "source": [
    "print(\"Creating network graph...\")\n",
    "start_time = time.time() \n",
    "\n",
    "with open(\"../data/network.tsv\", 'rb') as f:\n",
    "    grph = nx.read_edgelist(path=f, delimiter='\\t', encoding='utf8')\n",
    "\n",
    "end_time = time.time()\n",
    "print(\"Network graph created. Process took {:.04f} seconds\".format(end_time - start_time))\n",
    "\n",
    "# Check that graph is of correct size\n",
    "print(\"Number of edges: {}\".format(grph.number_of_edges())) # There should be 30915267\n",
    "print(\"Number of nodes: {}\".format(grph.number_of_nodes())) # There should be 6626753"
   ]
  },
  {
   "cell_type": "markdown",
   "metadata": {},
   "source": [
    "## 2. Load all files for attribute prediction "
   ]
  },
  {
   "cell_type": "code",
   "execution_count": 3,
   "metadata": {},
   "outputs": [
    {
     "name": "stdout",
     "output_type": "stream",
     "text": [
      "Reading in dev set...\n",
      "Dev set loaded. Process took 0.3937 seconds\n"
     ]
    },
    {
     "data": {
      "text/html": [
       "<div>\n",
       "<style scoped>\n",
       "    .dataframe tbody tr th:only-of-type {\n",
       "        vertical-align: middle;\n",
       "    }\n",
       "\n",
       "    .dataframe tbody tr th {\n",
       "        vertical-align: top;\n",
       "    }\n",
       "\n",
       "    .dataframe thead th {\n",
       "        text-align: right;\n",
       "    }\n",
       "</style>\n",
       "<table border=\"1\" class=\"dataframe\">\n",
       "  <thead>\n",
       "    <tr style=\"text-align: right;\">\n",
       "      <th></th>\n",
       "      <th>id</th>\n",
       "      <th>attr</th>\n",
       "    </tr>\n",
       "  </thead>\n",
       "  <tbody>\n",
       "    <tr>\n",
       "      <th>0</th>\n",
       "      <td>2666403</td>\n",
       "      <td>T0:2 T1:99</td>\n",
       "    </tr>\n",
       "    <tr>\n",
       "      <th>1</th>\n",
       "      <td>2627940</td>\n",
       "      <td>T0:0 T1:26</td>\n",
       "    </tr>\n",
       "    <tr>\n",
       "      <th>2</th>\n",
       "      <td>4843136</td>\n",
       "      <td>T0:0 T1:26</td>\n",
       "    </tr>\n",
       "    <tr>\n",
       "      <th>3</th>\n",
       "      <td>5396835</td>\n",
       "      <td>T0:0 T1:1813</td>\n",
       "    </tr>\n",
       "    <tr>\n",
       "      <th>4</th>\n",
       "      <td>5438188</td>\n",
       "      <td>T0:1 T1:1733</td>\n",
       "    </tr>\n",
       "  </tbody>\n",
       "</table>\n",
       "</div>"
      ],
      "text/plain": [
       "        id          attr\n",
       "0  2666403    T0:2 T1:99\n",
       "1  2627940    T0:0 T1:26\n",
       "2  4843136    T0:0 T1:26\n",
       "3  5396835  T0:0 T1:1813\n",
       "4  5438188  T0:1 T1:1733"
      ]
     },
     "execution_count": 3,
     "metadata": {},
     "output_type": "execute_result"
    }
   ],
   "source": [
    "print(\"Reading in dev set...\")\n",
    "start_time = time.time()\n",
    "\n",
    "dev_set_chunks = pd.read_csv(\"../data2/labeled-vertices.dev.tsv\",\n",
    "                             delimiter='\\t',\n",
    "                             usecols=[0,1],\n",
    "                             names=['id', 'attr'],\n",
    "                             header=None,\n",
    "                             chunksize=100000)\n",
    "\n",
    "dev_set = pd.concat(dev_set_chunks)\n",
    "\n",
    "# Free memory \n",
    "dev_set_chunks = None\n",
    "\n",
    "end_time = time.time()\n",
    "print(\"Dev set loaded. Process took {:.04f} seconds\".format(end_time - start_time))\n",
    "\n",
    "# Check \n",
    "dev_set.head()"
   ]
  },
  {
   "cell_type": "code",
   "execution_count": 4,
   "metadata": {},
   "outputs": [
    {
     "name": "stdout",
     "output_type": "stream",
     "text": [
      "Reading in training set...\n",
      "Train set loaded. Process took 2.1128 seconds\n",
      "5301403\n"
     ]
    },
    {
     "data": {
      "text/html": [
       "<div>\n",
       "<style scoped>\n",
       "    .dataframe tbody tr th:only-of-type {\n",
       "        vertical-align: middle;\n",
       "    }\n",
       "\n",
       "    .dataframe tbody tr th {\n",
       "        vertical-align: top;\n",
       "    }\n",
       "\n",
       "    .dataframe thead th {\n",
       "        text-align: right;\n",
       "    }\n",
       "</style>\n",
       "<table border=\"1\" class=\"dataframe\">\n",
       "  <thead>\n",
       "    <tr style=\"text-align: right;\">\n",
       "      <th></th>\n",
       "      <th>id</th>\n",
       "      <th>attr</th>\n",
       "    </tr>\n",
       "  </thead>\n",
       "  <tbody>\n",
       "    <tr>\n",
       "      <th>0</th>\n",
       "      <td>5509623</td>\n",
       "      <td>T0:0 T1:0</td>\n",
       "    </tr>\n",
       "    <tr>\n",
       "      <th>1</th>\n",
       "      <td>6334893</td>\n",
       "      <td>T0:0 T1:1</td>\n",
       "    </tr>\n",
       "    <tr>\n",
       "      <th>2</th>\n",
       "      <td>1218900</td>\n",
       "      <td>T0:1 T1:2</td>\n",
       "    </tr>\n",
       "    <tr>\n",
       "      <th>3</th>\n",
       "      <td>3871398</td>\n",
       "      <td>T0:1 T1:2</td>\n",
       "    </tr>\n",
       "    <tr>\n",
       "      <th>4</th>\n",
       "      <td>3942361</td>\n",
       "      <td>T0:0 T1:3</td>\n",
       "    </tr>\n",
       "  </tbody>\n",
       "</table>\n",
       "</div>"
      ],
      "text/plain": [
       "        id       attr\n",
       "0  5509623  T0:0 T1:0\n",
       "1  6334893  T0:0 T1:1\n",
       "2  1218900  T0:1 T1:2\n",
       "3  3871398  T0:1 T1:2\n",
       "4  3942361  T0:0 T1:3"
      ]
     },
     "execution_count": 4,
     "metadata": {},
     "output_type": "execute_result"
    }
   ],
   "source": [
    "print(\"Reading in training set...\")\n",
    "start_time = time.time()\n",
    "\n",
    "train_set_chunks = pd.read_csv(\"../data2/labeled-vertices.train.tsv\",\n",
    "                               delimiter='\\t',\n",
    "                               usecols=[0,1],\n",
    "                               names=['id', 'attr'],\n",
    "                               header=None,\n",
    "                               chunksize=100000)\n",
    "\n",
    "train_set = pd.concat(train_set_chunks)\n",
    "\n",
    "# Free memory \n",
    "train_set_chunks = None\n",
    "\n",
    "end_time = time.time()\n",
    "print(\"Train set loaded. Process took {:.04f} seconds\".format(end_time - start_time))\n",
    "\n",
    "# Check \n",
    "print(train_set.shape[0])\n",
    "train_set.head()"
   ]
  },
  {
   "cell_type": "code",
   "execution_count": 5,
   "metadata": {},
   "outputs": [
    {
     "name": "stdout",
     "output_type": "stream",
     "text": [
      "Reading in test set...\n",
      "Test set loaded. Process took 0.2168 seconds\n"
     ]
    },
    {
     "data": {
      "text/plain": [
       "['4546232', '3711008', '6394112', '5883774', '2843733']"
      ]
     },
     "execution_count": 5,
     "metadata": {},
     "output_type": "execute_result"
    }
   ],
   "source": [
    "print('Reading in test set...')\n",
    "start_time = time.time()\n",
    "\n",
    "test_set = []\n",
    "\n",
    "with open('../data2/unlabeled-vertices.test.txt') as f:\n",
    "    for line in f:\n",
    "        test_set.append(line.rstrip())\n",
    "\n",
    "end_time = time.time()\n",
    "print(\"Test set loaded. Process took {:.04f} seconds\".format(end_time - start_time))\n",
    "\n",
    "# Check \n",
    "test_set[:5]"
   ]
  },
  {
   "cell_type": "markdown",
   "metadata": {},
   "source": [
    "## 3. Define the functions for attribute prediction\n",
    "\n",
    "The following function will compute some similarity metric on the neighbors of a node, and the node will inherit the attributes of the highest scoring node."
   ]
  },
  {
   "cell_type": "code",
   "execution_count": 6,
   "metadata": {},
   "outputs": [],
   "source": [
    "def highest_jaccard_similarity(test_set, grph):\n",
    "    '''Calculate then jaccard similarity of neighbors and return the most similar node\n",
    "    \n",
    "    If jaccard similarity of two nodes is zero, return 0 \n",
    "    \n",
    "    :params test_set: target nodes we want to find the most similar neighbor for\n",
    "    :type test_set: list of str\n",
    "    :params grph: network graph containing target nodes\n",
    "    :type grph: networkx.classes.graph.Graph\n",
    "    :returns: node and the most similar neighboring node\n",
    "    :rtype: dict of {str : str}\n",
    "    '''\n",
    "    \n",
    "    # Store results\n",
    "    sim_results = {}\n",
    "    \n",
    "    for i in test_set:\n",
    "        nearest_neighbors = list(grph.neighbors(i))\n",
    "        # Make sure that node has neighbors\n",
    "        if nearest_neighbors:\n",
    "            # If a node only has only 1 neighbor, inherit that neighbors attributes \n",
    "            if len(nearest_neighbors) == 1: \n",
    "                sim_results[i] = nearest_neighbors[0]\n",
    "            else:\n",
    "                # Generate node-neighbor pairings \n",
    "                node_pairs = [(i, j) for j in nearest_neighbors]\n",
    "                preds = nx.jaccard_coefficient(grph, ebunch=node_pairs)\n",
    "\n",
    "                # Sort by similarity score\n",
    "                preds = list(preds)\n",
    "                preds.sort(key=lambda x: x[2], reverse=True)\n",
    "\n",
    "                # Take the node with highest sim score\n",
    "                # If similarity is 0, return 0\n",
    "                if preds[0][2] == 0:\n",
    "                    sim_results[i] = 0\n",
    "                else:\n",
    "                    sim_results[i] = preds[0][1]\n",
    "        else: \n",
    "            sim_results[i] = 0\n",
    "\n",
    "    return sim_results"
   ]
  },
  {
   "cell_type": "code",
   "execution_count": 7,
   "metadata": {},
   "outputs": [],
   "source": [
    "def highest_adamic_adar_similarity(test_set, grph):\n",
    "    '''Calculate then adamic/adar similarity of neighbors and return the most similar node\n",
    "    \n",
    "    If adamic/adar similarity of two nodes is zero, return 0\n",
    "    \n",
    "    :params test_set: target nodes we want to find the most similar neighbor for\n",
    "    :type test_set: list of str\n",
    "    :params grph: network containing target nodes\n",
    "    :type grph: networkx.classes.graph.Graph\n",
    "    :returns: node and the most similar neighboring node\n",
    "    :rtype: dict of {str : str}\n",
    "    '''\n",
    "    \n",
    "    # Store results\n",
    "    sim_results = {}\n",
    "    \n",
    "    for i in test_set:\n",
    "        nearest_neighbors = list(grph.neighbors(i))\n",
    "        # Make sure that node has neighbors\n",
    "        if nearest_neighbors:\n",
    "            # If a node only has only 1 neighbor, inherit that neighbors attributes \n",
    "            if len(nearest_neighbors) == 1: \n",
    "                sim_results[i] = nearest_neighbors[0]\n",
    "            else:\n",
    "                # Generate node-neighbor pairings \n",
    "                node_pairs = [(i, j) for j in nearest_neighbors]\n",
    "                preds = nx.adamic_adar_index(grph, ebunch=node_pairs)\n",
    "\n",
    "                # Sort by similarity score\n",
    "                preds = list(preds)\n",
    "                preds.sort(key=lambda x: x[2], reverse=True)\n",
    "\n",
    "                # Take the node with highest sim score\n",
    "                # If similarity is 0, return 0\n",
    "                if preds[0][2] == 0:\n",
    "                    sim_results[i] = 0\n",
    "                else:\n",
    "                    sim_results[i] = preds[0][1]\n",
    "        else:\n",
    "            sim_results[i] = 0\n",
    "\n",
    "    return sim_results"
   ]
  },
  {
   "cell_type": "code",
   "execution_count": 8,
   "metadata": {},
   "outputs": [],
   "source": [
    "def highest_preferential_attachment_score(test_set, grph):\n",
    "    '''Calculate then preferential attachment scores of neighbors and return the highest scoring node\n",
    "    \n",
    "    :params test_set: target nodes we want to find the most similar neighbor for\n",
    "    :type test_set: list of str\n",
    "    :params grph: network containing target nodes\n",
    "    :type grph: networkx.classes.graph.Graph\n",
    "    :returns: node and the most similar neighboring node\n",
    "    :rtype: dict of {str : str}\n",
    "    '''\n",
    "    \n",
    "    # Store results\n",
    "    sim_results = {}\n",
    "    \n",
    "    for i in test_set:\n",
    "        nearest_neighbors = list(grph.neighbors(i))\n",
    "        # Make sure that node has neighbors\n",
    "        if nearest_neighbors:\n",
    "            # If a node only has only 1 neighbor, inherit that neighbors attributes \n",
    "            if len(nearest_neighbors) == 1: \n",
    "                sim_results[i] = nearest_neighbors[0]\n",
    "            else:\n",
    "                # Generate node-neighbor pairings \n",
    "                node_pairs = [(i, j) for j in nearest_neighbors]\n",
    "                preds = nx.preferential_attachment(grph, ebunch=node_pairs)\n",
    "\n",
    "                # Sort by score\n",
    "                preds = list(preds)\n",
    "                preds.sort(key=lambda x: x[2], reverse=True)\n",
    "\n",
    "                # Take the node with highest score\n",
    "                # If score is 0, return 0\n",
    "                if preds[0][2] == 0:\n",
    "                    sim_results[i] = 0\n",
    "                else:\n",
    "                    sim_results[i] = preds[0][1]\n",
    "        else:\n",
    "            sim_results[i] = 0\n",
    "\n",
    "    return sim_results"
   ]
  },
  {
   "cell_type": "markdown",
   "metadata": {},
   "source": [
    "## 4. Generate node pairs"
   ]
  },
  {
   "cell_type": "markdown",
   "metadata": {},
   "source": [
    "Jaccard similarity and Adamic/Adar similarity both require nodes to have common neighbors, or the similarity score will be zero. Preferential attachment, however, can still be calculated as it is based on the idea that nodes will attach to nodes of higher degree. For nodes where Jaccard and Adamic/Adar failed to produce a similarity score, use the node suggested by rules of preferential attachment. "
   ]
  },
  {
   "cell_type": "markdown",
   "metadata": {},
   "source": [
    "### a. Jaccard Similarity"
   ]
  },
  {
   "cell_type": "code",
   "execution_count": 9,
   "metadata": {},
   "outputs": [
    {
     "name": "stdout",
     "output_type": "stream",
     "text": [
      "Running jaccard similarity...\n",
      "Node pairs generated. Process took 37.8477 seconds\n"
     ]
    }
   ],
   "source": [
    "print('Running jaccard similarity...')\n",
    "start_time = time.time()\n",
    "\n",
    "jaccard_similarity_nodes = highest_jaccard_similarity(test_set, grph)\n",
    "\n",
    "end_time = time.time()\n",
    "print(\"Node pairs generated. Process took {:.04f} seconds\".format(end_time - start_time))"
   ]
  },
  {
   "cell_type": "markdown",
   "metadata": {},
   "source": [
    "### b. Adamic/Adar Similarity"
   ]
  },
  {
   "cell_type": "code",
   "execution_count": 10,
   "metadata": {},
   "outputs": [
    {
     "name": "stdout",
     "output_type": "stream",
     "text": [
      "Running adamic/adar similarity...\n",
      "Node pairs generated. Process took 4.4451 seconds\n"
     ]
    }
   ],
   "source": [
    "print('Running adamic/adar similarity...')\n",
    "start_time = time.time()\n",
    "\n",
    "adamic_adar_nodes = highest_adamic_adar_similarity(test_set, grph)\n",
    "\n",
    "end_time = time.time()\n",
    "print(\"Node pairs generated. Process took {:.04f} seconds\".format(end_time - start_time))"
   ]
  },
  {
   "cell_type": "markdown",
   "metadata": {},
   "source": [
    "### c. Preferential Attachment"
   ]
  },
  {
   "cell_type": "code",
   "execution_count": 11,
   "metadata": {},
   "outputs": [
    {
     "name": "stdout",
     "output_type": "stream",
     "text": [
      "Running preferential attachment...\n",
      "Node pairs generated. Process took 2.3370 seconds\n"
     ]
    }
   ],
   "source": [
    "print('Running preferential attachment...')\n",
    "start_time = time.time()\n",
    "\n",
    "preferential_attachment_nodes = highest_preferential_attachment_score(test_set, grph)\n",
    "\n",
    "end_time = time.time()\n",
    "print(\"Node pairs generated. Process took {:.04f} seconds\".format(end_time - start_time))"
   ]
  },
  {
   "cell_type": "markdown",
   "metadata": {},
   "source": [
    "## 5. Select between Jaccard similarity, Adamic/Adar, or preferential attachment node pairs for attribute predictions "
   ]
  },
  {
   "cell_type": "markdown",
   "metadata": {},
   "source": [
    "### Round 1. Jaccard"
   ]
  },
  {
   "cell_type": "code",
   "execution_count": 12,
   "metadata": {},
   "outputs": [],
   "source": [
    "# predictions = pd.DataFrame({\n",
    "#                         'id': test_set,\n",
    "#                         'jaccard_similarity': list(jaccard_similarity_nodes.values())\n",
    "#                         })"
   ]
  },
  {
   "cell_type": "markdown",
   "metadata": {},
   "source": [
    "### Round 2. Jaccard + Preferential Attachment"
   ]
  },
  {
   "cell_type": "code",
   "execution_count": 13,
   "metadata": {},
   "outputs": [],
   "source": [
    "# predictions = pd.DataFrame({\n",
    "#                         'id': test_set,\n",
    "#                         'jaccard_similarity': list(jaccard_similarity_nodes.values()), \n",
    "#                         'preferential_attachment': list(preferential_attachment_nodes.values()),\n",
    "#                         })"
   ]
  },
  {
   "cell_type": "markdown",
   "metadata": {},
   "source": [
    "### Round 3. Adamic/Adar "
   ]
  },
  {
   "cell_type": "code",
   "execution_count": 14,
   "metadata": {},
   "outputs": [],
   "source": [
    "# predictions = pd.DataFrame({\n",
    "#                         'id': test_set,\n",
    "#                         'adamic_adar': list(adamic_adar_nodes.values())\n",
    "#                         })"
   ]
  },
  {
   "cell_type": "markdown",
   "metadata": {},
   "source": [
    "### Round 4. Adamic/Adar + Preferential Attachment"
   ]
  },
  {
   "cell_type": "code",
   "execution_count": 15,
   "metadata": {},
   "outputs": [],
   "source": [
    "predictions = pd.DataFrame({\n",
    "                        'id': test_set,\n",
    "                        'adamic_adar': list(adamic_adar_nodes.values()), \n",
    "                        'preferential_attachment': list(preferential_attachment_nodes.values()),\n",
    "                        })"
   ]
  },
  {
   "cell_type": "code",
   "execution_count": 16,
   "metadata": {},
   "outputs": [
    {
     "data": {
      "text/html": [
       "<div>\n",
       "<style scoped>\n",
       "    .dataframe tbody tr th:only-of-type {\n",
       "        vertical-align: middle;\n",
       "    }\n",
       "\n",
       "    .dataframe tbody tr th {\n",
       "        vertical-align: top;\n",
       "    }\n",
       "\n",
       "    .dataframe thead th {\n",
       "        text-align: right;\n",
       "    }\n",
       "</style>\n",
       "<table border=\"1\" class=\"dataframe\">\n",
       "  <thead>\n",
       "    <tr style=\"text-align: right;\">\n",
       "      <th></th>\n",
       "      <th>id</th>\n",
       "      <th>adamic_adar</th>\n",
       "      <th>preferential_attachment</th>\n",
       "    </tr>\n",
       "  </thead>\n",
       "  <tbody>\n",
       "    <tr>\n",
       "      <th>0</th>\n",
       "      <td>4546232</td>\n",
       "      <td>2494614</td>\n",
       "      <td>2494614</td>\n",
       "    </tr>\n",
       "    <tr>\n",
       "      <th>1</th>\n",
       "      <td>3711008</td>\n",
       "      <td>2444912</td>\n",
       "      <td>2174169</td>\n",
       "    </tr>\n",
       "    <tr>\n",
       "      <th>2</th>\n",
       "      <td>6394112</td>\n",
       "      <td>6223074</td>\n",
       "      <td>6223074</td>\n",
       "    </tr>\n",
       "    <tr>\n",
       "      <th>3</th>\n",
       "      <td>5883774</td>\n",
       "      <td>4485305</td>\n",
       "      <td>4485305</td>\n",
       "    </tr>\n",
       "    <tr>\n",
       "      <th>4</th>\n",
       "      <td>2843733</td>\n",
       "      <td>3931905</td>\n",
       "      <td>3931905</td>\n",
       "    </tr>\n",
       "  </tbody>\n",
       "</table>\n",
       "</div>"
      ],
      "text/plain": [
       "        id adamic_adar preferential_attachment\n",
       "0  4546232     2494614                 2494614\n",
       "1  3711008     2444912                 2174169\n",
       "2  6394112     6223074                 6223074\n",
       "3  5883774     4485305                 4485305\n",
       "4  2843733     3931905                 3931905"
      ]
     },
     "execution_count": 16,
     "metadata": {},
     "output_type": "execute_result"
    }
   ],
   "source": [
    "predictions.head()"
   ]
  },
  {
   "cell_type": "markdown",
   "metadata": {},
   "source": [
    "### Rename column if only using predictions just from Jacccard or Adamic/Adar"
   ]
  },
  {
   "cell_type": "code",
   "execution_count": 17,
   "metadata": {},
   "outputs": [],
   "source": [
    "# # Rename column name \n",
    "# predictions.columns = ['id','attr']"
   ]
  },
  {
   "cell_type": "markdown",
   "metadata": {},
   "source": [
    "### Combine Predictions from Jaccard and preferential attachment"
   ]
  },
  {
   "cell_type": "code",
   "execution_count": 18,
   "metadata": {},
   "outputs": [],
   "source": [
    "# # Find the number of cells where jaccard similarity did not return a similarity score and returned 0\n",
    "# print(\"Number of 0\\'s: {}\".format(predictions.shape[0] - np.count_nonzero(predictions['jaccard_similarity'])))"
   ]
  },
  {
   "cell_type": "code",
   "execution_count": 19,
   "metadata": {},
   "outputs": [],
   "source": [
    "# # For every row where jaccard similarity failed to return a candidate node due to lack of common neighbors,\n",
    "# # use the node returned by preferential attachment\n",
    "# predictions['attr'] = np.where(predictions['jaccard_similarity'] == 0, predictions['preferential_attachment'], predictions['jaccard_similarity'])\n",
    "# print(\"Number of 0\\'s: {}\".format(predictions.shape[0] - np.count_nonzero(predictions['attr'])))\n",
    "\n",
    "# # We no longer need columns jaccard_similarity and preferential attachment, so drop them\n",
    "# predictions.drop(['jaccard_similarity', 'preferential_attachment'], axis=1, inplace=True)"
   ]
  },
  {
   "cell_type": "markdown",
   "metadata": {},
   "source": [
    "### Combine Predictions from Adamic/Adar and preferential attachment"
   ]
  },
  {
   "cell_type": "code",
   "execution_count": 20,
   "metadata": {},
   "outputs": [
    {
     "name": "stdout",
     "output_type": "stream",
     "text": [
      "Number of 0's: 58932\n"
     ]
    }
   ],
   "source": [
    "# Find the number of cells where Adamic/Adar similarity did not return a similarity score and returned 0\n",
    "print(\"Number of 0\\'s: {}\".format(predictions.shape[0] - np.count_nonzero(predictions['adamic_adar'])))"
   ]
  },
  {
   "cell_type": "code",
   "execution_count": 21,
   "metadata": {},
   "outputs": [
    {
     "name": "stdout",
     "output_type": "stream",
     "text": [
      "Number of 0's: 0\n"
     ]
    }
   ],
   "source": [
    "# For every row where Adamic/Adar similarity failed to return a candidate node due to lack of common neighbors,\n",
    "# use the node returned by preferential attachment\n",
    "predictions['attr'] = np.where(predictions['adamic_adar'] == 0, predictions['preferential_attachment'], predictions['adamic_adar'])\n",
    "print(\"Number of 0\\'s: {}\".format(predictions.shape[0] - np.count_nonzero(predictions['attr'])))\n",
    "\n",
    "# We no longer need columns adamic_adar and preferential attachment, so drop them\n",
    "predictions.drop(['adamic_adar', 'preferential_attachment'], axis=1, inplace=True)"
   ]
  },
  {
   "cell_type": "markdown",
   "metadata": {},
   "source": [
    "## 6. Obtain attributes for nodes"
   ]
  },
  {
   "cell_type": "code",
   "execution_count": 22,
   "metadata": {},
   "outputs": [
    {
     "name": "stdout",
     "output_type": "stream",
     "text": [
      "There are 662675 rows in the prediction dataframe\n"
     ]
    },
    {
     "data": {
      "text/html": [
       "<div>\n",
       "<style scoped>\n",
       "    .dataframe tbody tr th:only-of-type {\n",
       "        vertical-align: middle;\n",
       "    }\n",
       "\n",
       "    .dataframe tbody tr th {\n",
       "        vertical-align: top;\n",
       "    }\n",
       "\n",
       "    .dataframe thead th {\n",
       "        text-align: right;\n",
       "    }\n",
       "</style>\n",
       "<table border=\"1\" class=\"dataframe\">\n",
       "  <thead>\n",
       "    <tr style=\"text-align: right;\">\n",
       "      <th></th>\n",
       "      <th>id</th>\n",
       "      <th>attr</th>\n",
       "    </tr>\n",
       "  </thead>\n",
       "  <tbody>\n",
       "    <tr>\n",
       "      <th>0</th>\n",
       "      <td>4546232</td>\n",
       "      <td>2494614</td>\n",
       "    </tr>\n",
       "    <tr>\n",
       "      <th>1</th>\n",
       "      <td>3711008</td>\n",
       "      <td>2444912</td>\n",
       "    </tr>\n",
       "    <tr>\n",
       "      <th>2</th>\n",
       "      <td>6394112</td>\n",
       "      <td>6223074</td>\n",
       "    </tr>\n",
       "    <tr>\n",
       "      <th>3</th>\n",
       "      <td>5883774</td>\n",
       "      <td>4485305</td>\n",
       "    </tr>\n",
       "    <tr>\n",
       "      <th>4</th>\n",
       "      <td>2843733</td>\n",
       "      <td>3931905</td>\n",
       "    </tr>\n",
       "  </tbody>\n",
       "</table>\n",
       "</div>"
      ],
      "text/plain": [
       "        id     attr\n",
       "0  4546232  2494614\n",
       "1  3711008  2444912\n",
       "2  6394112  6223074\n",
       "3  5883774  4485305\n",
       "4  2843733  3931905"
      ]
     },
     "execution_count": 22,
     "metadata": {},
     "output_type": "execute_result"
    }
   ],
   "source": [
    "print(\"There are {} rows in the prediction dataframe\".format(predictions.shape[0]))\n",
    "predictions.head()"
   ]
  },
  {
   "cell_type": "code",
   "execution_count": 23,
   "metadata": {},
   "outputs": [
    {
     "name": "stdout",
     "output_type": "stream",
     "text": [
      "<class 'numpy.int64'>\n"
     ]
    }
   ],
   "source": [
    "# Variable type in train_set \n",
    "print(type(train_set['id'][0]))"
   ]
  },
  {
   "cell_type": "code",
   "execution_count": 24,
   "metadata": {},
   "outputs": [
    {
     "name": "stdout",
     "output_type": "stream",
     "text": [
      "<class 'str'>\n",
      "<class 'numpy.int64'>\n"
     ]
    }
   ],
   "source": [
    "# The values in the prediction dataframe are currently str type\n",
    "# convert them to int64 to allow merge with train_set\n",
    "print(type(predictions['attr'][0]))\n",
    "\n",
    "predictions = predictions.astype(dtype=np.int64, copy=True)\n",
    "print(type(predictions['attr'][0]))"
   ]
  },
  {
   "cell_type": "code",
   "execution_count": 25,
   "metadata": {},
   "outputs": [
    {
     "data": {
      "text/html": [
       "<div>\n",
       "<style scoped>\n",
       "    .dataframe tbody tr th:only-of-type {\n",
       "        vertical-align: middle;\n",
       "    }\n",
       "\n",
       "    .dataframe tbody tr th {\n",
       "        vertical-align: top;\n",
       "    }\n",
       "\n",
       "    .dataframe thead th {\n",
       "        text-align: right;\n",
       "    }\n",
       "</style>\n",
       "<table border=\"1\" class=\"dataframe\">\n",
       "  <thead>\n",
       "    <tr style=\"text-align: right;\">\n",
       "      <th></th>\n",
       "      <th>id_x</th>\n",
       "      <th>attr_x</th>\n",
       "      <th>id_y</th>\n",
       "      <th>attr_y</th>\n",
       "    </tr>\n",
       "  </thead>\n",
       "  <tbody>\n",
       "    <tr>\n",
       "      <th>0</th>\n",
       "      <td>4546232</td>\n",
       "      <td>2494614</td>\n",
       "      <td>2494614.0</td>\n",
       "      <td>T0:0 T1:1766</td>\n",
       "    </tr>\n",
       "    <tr>\n",
       "      <th>1</th>\n",
       "      <td>3711008</td>\n",
       "      <td>2444912</td>\n",
       "      <td>2444912.0</td>\n",
       "      <td>T0:0 T1:1762</td>\n",
       "    </tr>\n",
       "    <tr>\n",
       "      <th>2</th>\n",
       "      <td>6394112</td>\n",
       "      <td>6223074</td>\n",
       "      <td>6223074.0</td>\n",
       "      <td>T0:0 T1:1914 T8:0</td>\n",
       "    </tr>\n",
       "    <tr>\n",
       "      <th>3</th>\n",
       "      <td>5883774</td>\n",
       "      <td>4485305</td>\n",
       "      <td>4485305.0</td>\n",
       "      <td>T0:0 T1:944</td>\n",
       "    </tr>\n",
       "    <tr>\n",
       "      <th>4</th>\n",
       "      <td>2843733</td>\n",
       "      <td>3931905</td>\n",
       "      <td>3931905.0</td>\n",
       "      <td>T0:0 T1:538</td>\n",
       "    </tr>\n",
       "  </tbody>\n",
       "</table>\n",
       "</div>"
      ],
      "text/plain": [
       "      id_x   attr_x       id_y             attr_y\n",
       "0  4546232  2494614  2494614.0       T0:0 T1:1766\n",
       "1  3711008  2444912  2444912.0       T0:0 T1:1762\n",
       "2  6394112  6223074  6223074.0  T0:0 T1:1914 T8:0\n",
       "3  5883774  4485305  4485305.0        T0:0 T1:944\n",
       "4  2843733  3931905  3931905.0        T0:0 T1:538"
      ]
     },
     "execution_count": 25,
     "metadata": {},
     "output_type": "execute_result"
    }
   ],
   "source": [
    "# Merge preditions dataframe with trainset by id \n",
    "results = predictions.merge(train_set, left_on='attr', right_on='id', how='left')\n",
    "# Check results\n",
    "results.head()"
   ]
  },
  {
   "cell_type": "code",
   "execution_count": 26,
   "metadata": {},
   "outputs": [
    {
     "data": {
      "text/html": [
       "<div>\n",
       "<style scoped>\n",
       "    .dataframe tbody tr th:only-of-type {\n",
       "        vertical-align: middle;\n",
       "    }\n",
       "\n",
       "    .dataframe tbody tr th {\n",
       "        vertical-align: top;\n",
       "    }\n",
       "\n",
       "    .dataframe thead th {\n",
       "        text-align: right;\n",
       "    }\n",
       "</style>\n",
       "<table border=\"1\" class=\"dataframe\">\n",
       "  <thead>\n",
       "    <tr style=\"text-align: right;\">\n",
       "      <th></th>\n",
       "      <th>id</th>\n",
       "      <th>attr</th>\n",
       "    </tr>\n",
       "  </thead>\n",
       "  <tbody>\n",
       "    <tr>\n",
       "      <th>0</th>\n",
       "      <td>4546232</td>\n",
       "      <td>T0:0 T1:1766</td>\n",
       "    </tr>\n",
       "    <tr>\n",
       "      <th>1</th>\n",
       "      <td>3711008</td>\n",
       "      <td>T0:0 T1:1762</td>\n",
       "    </tr>\n",
       "    <tr>\n",
       "      <th>2</th>\n",
       "      <td>6394112</td>\n",
       "      <td>T0:0 T1:1914 T8:0</td>\n",
       "    </tr>\n",
       "    <tr>\n",
       "      <th>3</th>\n",
       "      <td>5883774</td>\n",
       "      <td>T0:0 T1:944</td>\n",
       "    </tr>\n",
       "    <tr>\n",
       "      <th>4</th>\n",
       "      <td>2843733</td>\n",
       "      <td>T0:0 T1:538</td>\n",
       "    </tr>\n",
       "  </tbody>\n",
       "</table>\n",
       "</div>"
      ],
      "text/plain": [
       "        id               attr\n",
       "0  4546232       T0:0 T1:1766\n",
       "1  3711008       T0:0 T1:1762\n",
       "2  6394112  T0:0 T1:1914 T8:0\n",
       "3  5883774        T0:0 T1:944\n",
       "4  2843733        T0:0 T1:538"
      ]
     },
     "execution_count": 26,
     "metadata": {},
     "output_type": "execute_result"
    }
   ],
   "source": [
    "# Drop unecessary columns\n",
    "results.drop(['attr_x', 'id_y'], inplace=True, axis=1)\n",
    "\n",
    "# Rename columns\n",
    "results.columns = ['id', 'attr']\n",
    "\n",
    "# Show results\n",
    "results.head()"
   ]
  },
  {
   "cell_type": "code",
   "execution_count": 27,
   "metadata": {},
   "outputs": [
    {
     "name": "stdout",
     "output_type": "stream",
     "text": [
      "Results contain 662675 nodes\n"
     ]
    }
   ],
   "source": [
    "# Check results\n",
    "print('Results contain {} nodes'.format(results.shape[0]))"
   ]
  },
  {
   "cell_type": "markdown",
   "metadata": {},
   "source": [
    "## 7. Save attribute predictions as csv file"
   ]
  },
  {
   "cell_type": "code",
   "execution_count": 28,
   "metadata": {},
   "outputs": [
    {
     "name": "stdout",
     "output_type": "stream",
     "text": [
      "*****Done*****\n"
     ]
    }
   ],
   "source": [
    "# Save Results\n",
    "results.to_csv('../data2/attribute_predictions.csv', index=False)\n",
    "print('*****Done*****')"
   ]
  },
  {
   "cell_type": "markdown",
   "metadata": {},
   "source": [
    "## 8. Development Testing\n",
    "\n",
    "Run tests using the development data to evaluate where the algorithm has weak performance. "
   ]
  },
  {
   "cell_type": "code",
   "execution_count": 29,
   "metadata": {},
   "outputs": [],
   "source": [
    "# Change id's to str type to use as query for graph \n",
    "dev_set['id'] = dev_set['id'].astype(str)"
   ]
  },
  {
   "cell_type": "code",
   "execution_count": 30,
   "metadata": {},
   "outputs": [
    {
     "name": "stdout",
     "output_type": "stream",
     "text": [
      "Running preferential attachment...\n",
      "Node pairs generated. Process took 32.6763 seconds\n"
     ]
    }
   ],
   "source": [
    "print('Running preferential attachment...')\n",
    "start_time = time.time()\n",
    "\n",
    "preferential_attachment_nodes = highest_preferential_attachment_score(dev_set['id'], grph)\n",
    "\n",
    "end_time = time.time()\n",
    "print(\"Node pairs generated. Process took {:.04f} seconds\".format(end_time - start_time))"
   ]
  },
  {
   "cell_type": "code",
   "execution_count": 31,
   "metadata": {},
   "outputs": [
    {
     "name": "stdout",
     "output_type": "stream",
     "text": [
      "Running adamic/adar similarity...\n",
      "Node pairs generated. Process took 32.8725 seconds\n"
     ]
    }
   ],
   "source": [
    "print('Running adamic/adar similarity...')\n",
    "start_time = time.time()\n",
    "\n",
    "adamic_adar_nodes = highest_adamic_adar_similarity(dev_set['id'], grph)\n",
    "\n",
    "end_time = time.time()\n",
    "print(\"Node pairs generated. Process took {:.04f} seconds\".format(end_time - start_time))"
   ]
  },
  {
   "cell_type": "code",
   "execution_count": 32,
   "metadata": {},
   "outputs": [],
   "source": [
    "# Predictions with Adamic/Adar + preferential attachment\n",
    "predictions = pd.DataFrame({\n",
    "                        'id': dev_set['id'],\n",
    "                        'adamic_adar': list(adamic_adar_nodes.values()), \n",
    "                        'preferential_attachment': list(preferential_attachment_nodes.values()),\n",
    "                        })"
   ]
  },
  {
   "cell_type": "code",
   "execution_count": 33,
   "metadata": {},
   "outputs": [
    {
     "name": "stdout",
     "output_type": "stream",
     "text": [
      "Number of 0's: 140181\n"
     ]
    }
   ],
   "source": [
    "# Find the number of cells where jaccard similarity did not return a similarity score and returned 0\n",
    "print(\"Number of 0\\'s: {}\".format(predictions.shape[0] - np.count_nonzero(predictions['adamic_adar'])))"
   ]
  },
  {
   "cell_type": "code",
   "execution_count": 34,
   "metadata": {},
   "outputs": [
    {
     "name": "stdout",
     "output_type": "stream",
     "text": [
      "Number of 0's: 0\n"
     ]
    }
   ],
   "source": [
    "# For every row where jaccard similarity failed to return a candidate node due to lack of common neighbors,\n",
    "# use the node returned by preferential attachment\n",
    "predictions['attr'] = np.where(predictions['adamic_adar'] == 0, predictions['preferential_attachment'], predictions['adamic_adar'])\n",
    "\n",
    "print(\"Number of 0\\'s: {}\".format(predictions.shape[0] - np.count_nonzero(predictions['attr'])))"
   ]
  },
  {
   "cell_type": "code",
   "execution_count": 35,
   "metadata": {},
   "outputs": [],
   "source": [
    "# We no longer need columns jaccard_similarity and preferential attachment, so drop them\n",
    "predictions.drop(['adamic_adar', 'preferential_attachment'], axis=1, inplace=True)"
   ]
  },
  {
   "cell_type": "code",
   "execution_count": 36,
   "metadata": {},
   "outputs": [
    {
     "name": "stdout",
     "output_type": "stream",
     "text": [
      "Predictions table have 662675 rows\n"
     ]
    },
    {
     "data": {
      "text/html": [
       "<div>\n",
       "<style scoped>\n",
       "    .dataframe tbody tr th:only-of-type {\n",
       "        vertical-align: middle;\n",
       "    }\n",
       "\n",
       "    .dataframe tbody tr th {\n",
       "        vertical-align: top;\n",
       "    }\n",
       "\n",
       "    .dataframe thead th {\n",
       "        text-align: right;\n",
       "    }\n",
       "</style>\n",
       "<table border=\"1\" class=\"dataframe\">\n",
       "  <thead>\n",
       "    <tr style=\"text-align: right;\">\n",
       "      <th></th>\n",
       "      <th>id</th>\n",
       "      <th>attr</th>\n",
       "    </tr>\n",
       "  </thead>\n",
       "  <tbody>\n",
       "    <tr>\n",
       "      <th>0</th>\n",
       "      <td>2666403</td>\n",
       "      <td>2051632</td>\n",
       "    </tr>\n",
       "    <tr>\n",
       "      <th>1</th>\n",
       "      <td>2627940</td>\n",
       "      <td>4843136</td>\n",
       "    </tr>\n",
       "    <tr>\n",
       "      <th>2</th>\n",
       "      <td>4843136</td>\n",
       "      <td>2627940</td>\n",
       "    </tr>\n",
       "    <tr>\n",
       "      <th>3</th>\n",
       "      <td>5396835</td>\n",
       "      <td>2352112</td>\n",
       "    </tr>\n",
       "    <tr>\n",
       "      <th>4</th>\n",
       "      <td>5438188</td>\n",
       "      <td>5690565</td>\n",
       "    </tr>\n",
       "  </tbody>\n",
       "</table>\n",
       "</div>"
      ],
      "text/plain": [
       "        id     attr\n",
       "0  2666403  2051632\n",
       "1  2627940  4843136\n",
       "2  4843136  2627940\n",
       "3  5396835  2352112\n",
       "4  5438188  5690565"
      ]
     },
     "execution_count": 36,
     "metadata": {},
     "output_type": "execute_result"
    }
   ],
   "source": [
    "print('Predictions table have {} rows'.format(predictions.shape[0]))\n",
    "predictions.head()"
   ]
  },
  {
   "cell_type": "code",
   "execution_count": 37,
   "metadata": {},
   "outputs": [
    {
     "name": "stdout",
     "output_type": "stream",
     "text": [
      "<class 'str'>\n",
      "<class 'numpy.int64'>\n"
     ]
    }
   ],
   "source": [
    "# The values in the prediction dataframe are currently str type\n",
    "# convert them to int64 to allow merge with train_set\n",
    "print(type(predictions['attr'][0]))\n",
    "\n",
    "predictions = predictions.astype(dtype=np.int64, copy=True)\n",
    "print(type(predictions['attr'][0]))"
   ]
  },
  {
   "cell_type": "code",
   "execution_count": 38,
   "metadata": {},
   "outputs": [
    {
     "name": "stdout",
     "output_type": "stream",
     "text": [
      "Results table has 662675 rows\n"
     ]
    },
    {
     "data": {
      "text/html": [
       "<div>\n",
       "<style scoped>\n",
       "    .dataframe tbody tr th:only-of-type {\n",
       "        vertical-align: middle;\n",
       "    }\n",
       "\n",
       "    .dataframe tbody tr th {\n",
       "        vertical-align: top;\n",
       "    }\n",
       "\n",
       "    .dataframe thead th {\n",
       "        text-align: right;\n",
       "    }\n",
       "</style>\n",
       "<table border=\"1\" class=\"dataframe\">\n",
       "  <thead>\n",
       "    <tr style=\"text-align: right;\">\n",
       "      <th></th>\n",
       "      <th>id_x</th>\n",
       "      <th>attr_x</th>\n",
       "      <th>id_y</th>\n",
       "      <th>attr_y</th>\n",
       "    </tr>\n",
       "  </thead>\n",
       "  <tbody>\n",
       "    <tr>\n",
       "      <th>0</th>\n",
       "      <td>2666403</td>\n",
       "      <td>2051632</td>\n",
       "      <td>2051632.0</td>\n",
       "      <td>T0:2 T1:99</td>\n",
       "    </tr>\n",
       "    <tr>\n",
       "      <th>1</th>\n",
       "      <td>2627940</td>\n",
       "      <td>4843136</td>\n",
       "      <td>NaN</td>\n",
       "      <td>NaN</td>\n",
       "    </tr>\n",
       "    <tr>\n",
       "      <th>2</th>\n",
       "      <td>4843136</td>\n",
       "      <td>2627940</td>\n",
       "      <td>NaN</td>\n",
       "      <td>NaN</td>\n",
       "    </tr>\n",
       "    <tr>\n",
       "      <th>3</th>\n",
       "      <td>5396835</td>\n",
       "      <td>2352112</td>\n",
       "      <td>2352112.0</td>\n",
       "      <td>T0:0 T1:1813</td>\n",
       "    </tr>\n",
       "    <tr>\n",
       "      <th>4</th>\n",
       "      <td>5438188</td>\n",
       "      <td>5690565</td>\n",
       "      <td>5690565.0</td>\n",
       "      <td>T0:1 T1:1733</td>\n",
       "    </tr>\n",
       "  </tbody>\n",
       "</table>\n",
       "</div>"
      ],
      "text/plain": [
       "      id_x   attr_x       id_y        attr_y\n",
       "0  2666403  2051632  2051632.0    T0:2 T1:99\n",
       "1  2627940  4843136        NaN           NaN\n",
       "2  4843136  2627940        NaN           NaN\n",
       "3  5396835  2352112  2352112.0  T0:0 T1:1813\n",
       "4  5438188  5690565  5690565.0  T0:1 T1:1733"
      ]
     },
     "execution_count": 38,
     "metadata": {},
     "output_type": "execute_result"
    }
   ],
   "source": [
    "# Merge preditions dataframe with trainset by id \n",
    "results = predictions.merge(train_set, left_on='attr', right_on='id', how='left')\n",
    "# Check results\n",
    "print('Results table has {} rows'.format(results.shape[0]))\n",
    "results.head()"
   ]
  },
  {
   "cell_type": "code",
   "execution_count": 39,
   "metadata": {},
   "outputs": [
    {
     "data": {
      "text/html": [
       "<div>\n",
       "<style scoped>\n",
       "    .dataframe tbody tr th:only-of-type {\n",
       "        vertical-align: middle;\n",
       "    }\n",
       "\n",
       "    .dataframe tbody tr th {\n",
       "        vertical-align: top;\n",
       "    }\n",
       "\n",
       "    .dataframe thead th {\n",
       "        text-align: right;\n",
       "    }\n",
       "</style>\n",
       "<table border=\"1\" class=\"dataframe\">\n",
       "  <thead>\n",
       "    <tr style=\"text-align: right;\">\n",
       "      <th></th>\n",
       "      <th>id</th>\n",
       "      <th>attr</th>\n",
       "    </tr>\n",
       "  </thead>\n",
       "  <tbody>\n",
       "    <tr>\n",
       "      <th>0</th>\n",
       "      <td>2666403</td>\n",
       "      <td>T0:2 T1:99</td>\n",
       "    </tr>\n",
       "    <tr>\n",
       "      <th>1</th>\n",
       "      <td>2627940</td>\n",
       "      <td>NaN</td>\n",
       "    </tr>\n",
       "    <tr>\n",
       "      <th>2</th>\n",
       "      <td>4843136</td>\n",
       "      <td>NaN</td>\n",
       "    </tr>\n",
       "    <tr>\n",
       "      <th>3</th>\n",
       "      <td>5396835</td>\n",
       "      <td>T0:0 T1:1813</td>\n",
       "    </tr>\n",
       "    <tr>\n",
       "      <th>4</th>\n",
       "      <td>5438188</td>\n",
       "      <td>T0:1 T1:1733</td>\n",
       "    </tr>\n",
       "  </tbody>\n",
       "</table>\n",
       "</div>"
      ],
      "text/plain": [
       "        id          attr\n",
       "0  2666403    T0:2 T1:99\n",
       "1  2627940           NaN\n",
       "2  4843136           NaN\n",
       "3  5396835  T0:0 T1:1813\n",
       "4  5438188  T0:1 T1:1733"
      ]
     },
     "execution_count": 39,
     "metadata": {},
     "output_type": "execute_result"
    }
   ],
   "source": [
    "# Drop unecessary columns\n",
    "results.drop(['attr_x', 'id_y'], inplace=True, axis=1)\n",
    "\n",
    "# Rename columns\n",
    "results.columns = ['id', 'attr']\n",
    "\n",
    "# Show results\n",
    "results.head()"
   ]
  },
  {
   "cell_type": "code",
   "execution_count": 40,
   "metadata": {},
   "outputs": [],
   "source": [
    "results['id'] = results['id'].astype(np.int64)\n",
    "dev_set['id'] = results['id'].astype(np.int64)"
   ]
  },
  {
   "cell_type": "code",
   "execution_count": 41,
   "metadata": {},
   "outputs": [
    {
     "data": {
      "text/html": [
       "<div>\n",
       "<style scoped>\n",
       "    .dataframe tbody tr th:only-of-type {\n",
       "        vertical-align: middle;\n",
       "    }\n",
       "\n",
       "    .dataframe tbody tr th {\n",
       "        vertical-align: top;\n",
       "    }\n",
       "\n",
       "    .dataframe thead th {\n",
       "        text-align: right;\n",
       "    }\n",
       "</style>\n",
       "<table border=\"1\" class=\"dataframe\">\n",
       "  <thead>\n",
       "    <tr style=\"text-align: right;\">\n",
       "      <th></th>\n",
       "      <th>id</th>\n",
       "      <th>attr_x</th>\n",
       "      <th>attr_y</th>\n",
       "    </tr>\n",
       "  </thead>\n",
       "  <tbody>\n",
       "    <tr>\n",
       "      <th>0</th>\n",
       "      <td>2666403</td>\n",
       "      <td>T0:2 T1:99</td>\n",
       "      <td>T0:2 T1:99</td>\n",
       "    </tr>\n",
       "    <tr>\n",
       "      <th>1</th>\n",
       "      <td>2627940</td>\n",
       "      <td>T0:0 T1:26</td>\n",
       "      <td>NaN</td>\n",
       "    </tr>\n",
       "    <tr>\n",
       "      <th>2</th>\n",
       "      <td>4843136</td>\n",
       "      <td>T0:0 T1:26</td>\n",
       "      <td>NaN</td>\n",
       "    </tr>\n",
       "    <tr>\n",
       "      <th>3</th>\n",
       "      <td>5396835</td>\n",
       "      <td>T0:0 T1:1813</td>\n",
       "      <td>T0:0 T1:1813</td>\n",
       "    </tr>\n",
       "    <tr>\n",
       "      <th>4</th>\n",
       "      <td>5438188</td>\n",
       "      <td>T0:1 T1:1733</td>\n",
       "      <td>T0:1 T1:1733</td>\n",
       "    </tr>\n",
       "  </tbody>\n",
       "</table>\n",
       "</div>"
      ],
      "text/plain": [
       "        id        attr_x        attr_y\n",
       "0  2666403    T0:2 T1:99    T0:2 T1:99\n",
       "1  2627940    T0:0 T1:26           NaN\n",
       "2  4843136    T0:0 T1:26           NaN\n",
       "3  5396835  T0:0 T1:1813  T0:0 T1:1813\n",
       "4  5438188  T0:1 T1:1733  T0:1 T1:1733"
      ]
     },
     "execution_count": 41,
     "metadata": {},
     "output_type": "execute_result"
    }
   ],
   "source": [
    "# Perform a merge with indicator on\n",
    "dev_results = dev_set.merge(results, left_on='id', right_on='id')\n",
    "\n",
    "# Check that results were produced\n",
    "dev_results.head()"
   ]
  },
  {
   "cell_type": "code",
   "execution_count": 42,
   "metadata": {},
   "outputs": [],
   "source": [
    "# If attributes are equal, assign True, else False\n",
    "dev_results = dev_results[['id', 'attr_x', 'attr_y']].assign(NE=dev_results['attr_x'] == dev_results['attr_y'])"
   ]
  },
  {
   "cell_type": "code",
   "execution_count": 43,
   "metadata": {},
   "outputs": [
    {
     "data": {
      "text/html": [
       "<div>\n",
       "<style scoped>\n",
       "    .dataframe tbody tr th:only-of-type {\n",
       "        vertical-align: middle;\n",
       "    }\n",
       "\n",
       "    .dataframe tbody tr th {\n",
       "        vertical-align: top;\n",
       "    }\n",
       "\n",
       "    .dataframe thead th {\n",
       "        text-align: right;\n",
       "    }\n",
       "</style>\n",
       "<table border=\"1\" class=\"dataframe\">\n",
       "  <thead>\n",
       "    <tr style=\"text-align: right;\">\n",
       "      <th></th>\n",
       "      <th>id</th>\n",
       "      <th>attr_x</th>\n",
       "      <th>attr_y</th>\n",
       "      <th>NE</th>\n",
       "    </tr>\n",
       "  </thead>\n",
       "  <tbody>\n",
       "    <tr>\n",
       "      <th>0</th>\n",
       "      <td>2666403</td>\n",
       "      <td>T0:2 T1:99</td>\n",
       "      <td>T0:2 T1:99</td>\n",
       "      <td>True</td>\n",
       "    </tr>\n",
       "    <tr>\n",
       "      <th>1</th>\n",
       "      <td>2627940</td>\n",
       "      <td>T0:0 T1:26</td>\n",
       "      <td>NaN</td>\n",
       "      <td>False</td>\n",
       "    </tr>\n",
       "    <tr>\n",
       "      <th>2</th>\n",
       "      <td>4843136</td>\n",
       "      <td>T0:0 T1:26</td>\n",
       "      <td>NaN</td>\n",
       "      <td>False</td>\n",
       "    </tr>\n",
       "    <tr>\n",
       "      <th>3</th>\n",
       "      <td>5396835</td>\n",
       "      <td>T0:0 T1:1813</td>\n",
       "      <td>T0:0 T1:1813</td>\n",
       "      <td>True</td>\n",
       "    </tr>\n",
       "    <tr>\n",
       "      <th>4</th>\n",
       "      <td>5438188</td>\n",
       "      <td>T0:1 T1:1733</td>\n",
       "      <td>T0:1 T1:1733</td>\n",
       "      <td>True</td>\n",
       "    </tr>\n",
       "  </tbody>\n",
       "</table>\n",
       "</div>"
      ],
      "text/plain": [
       "        id        attr_x        attr_y     NE\n",
       "0  2666403    T0:2 T1:99    T0:2 T1:99   True\n",
       "1  2627940    T0:0 T1:26           NaN  False\n",
       "2  4843136    T0:0 T1:26           NaN  False\n",
       "3  5396835  T0:0 T1:1813  T0:0 T1:1813   True\n",
       "4  5438188  T0:1 T1:1733  T0:1 T1:1733   True"
      ]
     },
     "execution_count": 43,
     "metadata": {},
     "output_type": "execute_result"
    }
   ],
   "source": [
    "dev_results.head()"
   ]
  },
  {
   "cell_type": "code",
   "execution_count": 44,
   "metadata": {},
   "outputs": [
    {
     "data": {
      "text/plain": [
       "True     390889\n",
       "False    271786\n",
       "Name: NE, dtype: int64"
      ]
     },
     "execution_count": 44,
     "metadata": {},
     "output_type": "execute_result"
    }
   ],
   "source": [
    "# Total number of True and False Predictions \n",
    "dev_results['NE'].value_counts()"
   ]
  },
  {
   "cell_type": "code",
   "execution_count": 45,
   "metadata": {},
   "outputs": [
    {
     "name": "stdout",
     "output_type": "stream",
     "text": [
      "The average degree of nodes for the top 50 missed attributes 1.54400\n",
      "The top 50 missed attributes make up 24.49206%  of all missed attributes.\n"
     ]
    }
   ],
   "source": [
    "# Calculate the average degree of the nodes for the top 50 most missed attributes \n",
    "count = 0\n",
    "total_number_of_nodes = 0\n",
    "\n",
    "# Create list of attributes and the average of the degree of these nodes to graph later\n",
    "all_attributes = []\n",
    "ave_degree_by_attribute = []\n",
    "\n",
    "# Most missed attributes and corresponding number of nodes, sorted from greatest to least\n",
    "for k, v in dict(dev_results[dev_results['NE'] == False]['attr_x'].value_counts()).items():\n",
    "    list_of_degrees = []\n",
    "    if count < 50:\n",
    "        # Store attribute names\n",
    "        all_attributes.append(k)\n",
    "        \n",
    "        # Get all nodes of particular attribute\n",
    "        missed_nodes = dev_results[dev_results['attr_x'] == str(k)]['id']\n",
    "        \n",
    "        for i in missed_nodes: \n",
    "            list_of_degrees.append(grph.degree[str(i)])\n",
    "            ave_degree = np.mean(list_of_degrees)\n",
    "\n",
    "#         print('There are {} nodes with attribute {}'.format(v, k))\n",
    "#         print(\"The Average degree of these nodes is: {}\".format(ave_degree))\n",
    "        \n",
    "        # Store ave degree \n",
    "        ave_degree_by_attribute.append(ave_degree)\n",
    "        \n",
    "        total_number_of_nodes += v\n",
    "        count += 1 \n",
    "\n",
    "print(\"The average degree of nodes for the top 50 missed attributes {:.5f}\".format(np.mean(ave_degree_by_attribute)))\n",
    "print(\"The top {} missed attributes make up {:.5f}%  of all missed attributes.\".format(count, (total_number_of_nodes / dev_results['NE'].value_counts()[0]) * 100))"
   ]
  },
  {
   "cell_type": "code",
   "execution_count": 46,
   "metadata": {},
   "outputs": [
    {
     "data": {
      "image/png": "[encoded data removed]",
      "text/plain": [
       "<Figure size 1080x648 with 1 Axes>"
      ]
     },
     "metadata": {},
     "output_type": "display_data"
    }
   ],
   "source": [
    "import matplotlib.pyplot as plt\n",
    "%matplotlib inline\n",
    "import seaborn as sns\n",
    "\n",
    "# Prepare the data\n",
    "ave_degree_data = pd.DataFrame.from_dict({'Attributes':all_attributes, 'Ave_Degree': ave_degree_by_attribute})\n",
    "\n",
    "# Set the style of seaborn plot\n",
    "sns.set(style='darkgrid', palette='husl', font_scale=1.5)\n",
    "\n",
    "# Create matplotlib Figure and Axes object\n",
    "f, ax = plt.subplots(figsize=(15,9))\n",
    "\n",
    "# Create the plot\n",
    "g = sns.lineplot(x='Attributes', y='Ave_Degree', markers=True, data=ave_degree_data)\n",
    "\n",
    "# Fine Tuning font size\n",
    "g.set_xticklabels(ave_degree_data['Attributes'], rotation=90)\n",
    "g.set_xlabel('Attributes', fontsize=20)\n",
    "g.set_ylabel('Average Degree', fontsize=20)\n",
    "# g.axes.set_title('Threshold to number of nodes', fontsize=30)\n",
    "\n",
    "# Display\n",
    "plt.show(g)\n",
    "\n",
    "# Save File\n",
    "fig = g.get_figure()\n",
    "fig.savefig('./{}.png'.format('ave_degree_distribution'))"
   ]
  },
  {
   "cell_type": "markdown",
   "metadata": {},
   "source": [
    "Evaluating the performance on the development data, we see that this algorithm fails at predicting certain attributes that are shared among nodes with low degrees. The top 50 attributes make up 25% of all missed attributes, and these nodes have low average degrees below 2. The low degree suggests that these nodes are from sparse areas of the network, therefore, similarity measures relying on neighboring connectivity are not as effective."
   ]
  },
  {
   "cell_type": "markdown",
   "metadata": {},
   "source": [
    "## 9. How well does homophily hold? \n",
    "\n",
    "Homophiliy refers to the tendency for people to have ties with people who are similar to themselves in socially significant ways. (http://www.analytictech.com/mgt780/topics/homophily.htm)\n",
    "\n",
    "Check this by creating a subgraph and calculate the similarity scores and plot the distribution out on a histogram. \n",
    "For the X-axis, have their attributes "
   ]
  },
  {
   "cell_type": "code",
   "execution_count": 47,
   "metadata": {},
   "outputs": [
    {
     "name": "stdout",
     "output_type": "stream",
     "text": [
      "Number of edges: 444\n",
      "Number of nodes: 71\n"
     ]
    }
   ],
   "source": [
    "# Choose a random node, get all neighbors. \n",
    "# Use these nodes to create a subgraph of the original graph \n",
    "small_graph = grph.subgraph(list(grph.neighbors('6334893')))\n",
    "                            \n",
    "# Check that graph is of correct size\n",
    "print(\"Number of edges: {}\".format(small_graph.number_of_edges())) # There should be 30915267\n",
    "print(\"Number of nodes: {}\".format(small_graph.number_of_nodes())) # There should be 6626753"
   ]
  },
  {
   "cell_type": "code",
   "execution_count": 48,
   "metadata": {},
   "outputs": [],
   "source": [
    "def homophiliy_test_adamic_adar(test_set, grph):\n",
    "    '''Calculate then adamic/adar similarity of neighbors and return the most similar\n",
    "    node and the similarity score\n",
    "    \n",
    "    :params test_set: target nodes we want to find the most similar neighbor for\n",
    "    :type test_set: list of str\n",
    "    :params grph: network containing target nodes\n",
    "    :type grph: networkx.classes.graph.Graph\n",
    "    :returns: each nodes most similar neighboring node and their similarity scores\n",
    "    :rtype: dict of {str : (str, float)}\n",
    "    '''\n",
    "    \n",
    "    # Store results\n",
    "    sim_results = {}\n",
    "    \n",
    "    for i in test_set:\n",
    "        nearest_neighbors = list(grph.neighbors(i))\n",
    "        # Make sure that node has neighbors\n",
    "        if nearest_neighbors:\n",
    "            # If a node only has only 1 neighbor, inherit that neighbors attributes \n",
    "            if len(nearest_neighbors) == 1: \n",
    "                sim_results[i] = (nearest_neighbors[0], 0)\n",
    "            else:\n",
    "                # Generate node-neighbor pairings \n",
    "                node_pairs = [(i, j) for j in nearest_neighbors]\n",
    "                preds = nx.adamic_adar_index(grph, ebunch=node_pairs)\n",
    "\n",
    "                # Sort by similarity score\n",
    "                preds = list(preds)\n",
    "                preds.sort(key=lambda x: x[2], reverse=True)\n",
    "\n",
    "                # Take the node with highest sim score\n",
    "                sim_results[i] = (preds[0][1], preds[0][2])\n",
    "        else:\n",
    "            sim_results[i] = 0\n",
    "\n",
    "    return sim_results"
   ]
  },
  {
   "cell_type": "code",
   "execution_count": 49,
   "metadata": {},
   "outputs": [],
   "source": [
    "# Calculate the adamic/adar similarity on nodes in the subgraph\n",
    "sim_results = homophiliy_test_adamic_adar(list(small_graph.nodes), small_graph)                     "
   ]
  },
  {
   "cell_type": "code",
   "execution_count": 50,
   "metadata": {},
   "outputs": [],
   "source": [
    "# Create pandas dataframe  with node, most similar node, and similarity score\n",
    "homophily_test = pd.DataFrame({\n",
    "                        'n': list(sim_results.keys()),\n",
    "                        'v': [i[0] if i != 0 else i for i in sim_results.values()], \n",
    "                        'sim_score': [i[1] if i != 0 else i for i in list(sim_results.values())],\n",
    "                        })"
   ]
  },
  {
   "cell_type": "code",
   "execution_count": 51,
   "metadata": {},
   "outputs": [
    {
     "data": {
      "text/html": [
       "<div>\n",
       "<style scoped>\n",
       "    .dataframe tbody tr th:only-of-type {\n",
       "        vertical-align: middle;\n",
       "    }\n",
       "\n",
       "    .dataframe tbody tr th {\n",
       "        vertical-align: top;\n",
       "    }\n",
       "\n",
       "    .dataframe thead th {\n",
       "        text-align: right;\n",
       "    }\n",
       "</style>\n",
       "<table border=\"1\" class=\"dataframe\">\n",
       "  <thead>\n",
       "    <tr style=\"text-align: right;\">\n",
       "      <th></th>\n",
       "      <th>n</th>\n",
       "      <th>v</th>\n",
       "      <th>sim_score</th>\n",
       "    </tr>\n",
       "  </thead>\n",
       "  <tbody>\n",
       "    <tr>\n",
       "      <th>0</th>\n",
       "      <td>163000</td>\n",
       "      <td>1950058</td>\n",
       "      <td>8.947507</td>\n",
       "    </tr>\n",
       "    <tr>\n",
       "      <th>1</th>\n",
       "      <td>1950058</td>\n",
       "      <td>1992159</td>\n",
       "      <td>9.263532</td>\n",
       "    </tr>\n",
       "    <tr>\n",
       "      <th>2</th>\n",
       "      <td>3603369</td>\n",
       "      <td>6579303</td>\n",
       "      <td>3.306734</td>\n",
       "    </tr>\n",
       "    <tr>\n",
       "      <th>3</th>\n",
       "      <td>1386558</td>\n",
       "      <td>1950058</td>\n",
       "      <td>1.758797</td>\n",
       "    </tr>\n",
       "    <tr>\n",
       "      <th>4</th>\n",
       "      <td>5492245</td>\n",
       "      <td>2019089</td>\n",
       "      <td>0.910239</td>\n",
       "    </tr>\n",
       "  </tbody>\n",
       "</table>\n",
       "</div>"
      ],
      "text/plain": [
       "         n        v  sim_score\n",
       "0   163000  1950058   8.947507\n",
       "1  1950058  1992159   9.263532\n",
       "2  3603369  6579303   3.306734\n",
       "3  1386558  1950058   1.758797\n",
       "4  5492245  2019089   0.910239"
      ]
     },
     "execution_count": 51,
     "metadata": {},
     "output_type": "execute_result"
    }
   ],
   "source": [
    "homophily_test.head()"
   ]
  },
  {
   "cell_type": "code",
   "execution_count": 52,
   "metadata": {},
   "outputs": [
    {
     "data": {
      "text/plain": [
       "numpy.int64"
      ]
     },
     "execution_count": 52,
     "metadata": {},
     "output_type": "execute_result"
    }
   ],
   "source": [
    "# Convert 'n' and 'v' columns to int64 to match trainset \n",
    "homophily_test[['n','v']] = homophily_test[['n','v']].astype(np.int64)\n",
    "# Check\n",
    "type(homophily_test['n'][0])"
   ]
  },
  {
   "cell_type": "code",
   "execution_count": 53,
   "metadata": {},
   "outputs": [
    {
     "data": {
      "text/html": [
       "<div>\n",
       "<style scoped>\n",
       "    .dataframe tbody tr th:only-of-type {\n",
       "        vertical-align: middle;\n",
       "    }\n",
       "\n",
       "    .dataframe tbody tr th {\n",
       "        vertical-align: top;\n",
       "    }\n",
       "\n",
       "    .dataframe thead th {\n",
       "        text-align: right;\n",
       "    }\n",
       "</style>\n",
       "<table border=\"1\" class=\"dataframe\">\n",
       "  <thead>\n",
       "    <tr style=\"text-align: right;\">\n",
       "      <th></th>\n",
       "      <th>n</th>\n",
       "      <th>v</th>\n",
       "      <th>sim_score</th>\n",
       "      <th>id_x</th>\n",
       "      <th>attr_x</th>\n",
       "      <th>id_y</th>\n",
       "      <th>attr_y</th>\n",
       "    </tr>\n",
       "  </thead>\n",
       "  <tbody>\n",
       "    <tr>\n",
       "      <th>0</th>\n",
       "      <td>163000</td>\n",
       "      <td>1950058</td>\n",
       "      <td>8.947507</td>\n",
       "      <td>163000.0</td>\n",
       "      <td>T0:0 T1:1</td>\n",
       "      <td>1950058</td>\n",
       "      <td>T0:0 T1:1 T8:2</td>\n",
       "    </tr>\n",
       "    <tr>\n",
       "      <th>1</th>\n",
       "      <td>1950058</td>\n",
       "      <td>1992159</td>\n",
       "      <td>9.263532</td>\n",
       "      <td>1950058.0</td>\n",
       "      <td>T0:0 T1:1 T8:2</td>\n",
       "      <td>1992159</td>\n",
       "      <td>T0:0 T1:1134</td>\n",
       "    </tr>\n",
       "    <tr>\n",
       "      <th>2</th>\n",
       "      <td>3603369</td>\n",
       "      <td>6579303</td>\n",
       "      <td>3.306734</td>\n",
       "      <td>3603369.0</td>\n",
       "      <td>T0:0 T1:1</td>\n",
       "      <td>6579303</td>\n",
       "      <td>T0:0 T1:60 T8:0</td>\n",
       "    </tr>\n",
       "    <tr>\n",
       "      <th>3</th>\n",
       "      <td>1386558</td>\n",
       "      <td>1950058</td>\n",
       "      <td>1.758797</td>\n",
       "      <td>1386558.0</td>\n",
       "      <td>T0:0 T1:34 T8:1</td>\n",
       "      <td>1950058</td>\n",
       "      <td>T0:0 T1:1 T8:2</td>\n",
       "    </tr>\n",
       "    <tr>\n",
       "      <th>4</th>\n",
       "      <td>5492245</td>\n",
       "      <td>2019089</td>\n",
       "      <td>0.910239</td>\n",
       "      <td>5492245.0</td>\n",
       "      <td>T0:0 T1:801 T8:1</td>\n",
       "      <td>2019089</td>\n",
       "      <td>T0:0 T1:92</td>\n",
       "    </tr>\n",
       "  </tbody>\n",
       "</table>\n",
       "</div>"
      ],
      "text/plain": [
       "         n        v  sim_score       id_x            attr_x     id_y  \\\n",
       "0   163000  1950058   8.947507   163000.0         T0:0 T1:1  1950058   \n",
       "1  1950058  1992159   9.263532  1950058.0    T0:0 T1:1 T8:2  1992159   \n",
       "2  3603369  6579303   3.306734  3603369.0         T0:0 T1:1  6579303   \n",
       "3  1386558  1950058   1.758797  1386558.0   T0:0 T1:34 T8:1  1950058   \n",
       "4  5492245  2019089   0.910239  5492245.0  T0:0 T1:801 T8:1  2019089   \n",
       "\n",
       "            attr_y  \n",
       "0   T0:0 T1:1 T8:2  \n",
       "1     T0:0 T1:1134  \n",
       "2  T0:0 T1:60 T8:0  \n",
       "3   T0:0 T1:1 T8:2  \n",
       "4       T0:0 T1:92  "
      ]
     },
     "execution_count": 53,
     "metadata": {},
     "output_type": "execute_result"
    }
   ],
   "source": [
    "# Merge homphily_test dataframe with corresponding attributes to see if they overlap \n",
    "homophily_test = homophily_test.merge(train_set, left_on='n', right_on='id', how='left')\n",
    "homophily_test = homophily_test.merge(train_set, left_on='v', right_on='id', how='left')\n",
    "# Check results\n",
    "homophily_test.head()"
   ]
  },
  {
   "cell_type": "code",
   "execution_count": 54,
   "metadata": {},
   "outputs": [
    {
     "data": {
      "text/html": [
       "<div>\n",
       "<style scoped>\n",
       "    .dataframe tbody tr th:only-of-type {\n",
       "        vertical-align: middle;\n",
       "    }\n",
       "\n",
       "    .dataframe tbody tr th {\n",
       "        vertical-align: top;\n",
       "    }\n",
       "\n",
       "    .dataframe thead th {\n",
       "        text-align: right;\n",
       "    }\n",
       "</style>\n",
       "<table border=\"1\" class=\"dataframe\">\n",
       "  <thead>\n",
       "    <tr style=\"text-align: right;\">\n",
       "      <th></th>\n",
       "      <th>n</th>\n",
       "      <th>v</th>\n",
       "      <th>sim_score</th>\n",
       "      <th>attr_n</th>\n",
       "      <th>attr_v</th>\n",
       "    </tr>\n",
       "  </thead>\n",
       "  <tbody>\n",
       "    <tr>\n",
       "      <th>0</th>\n",
       "      <td>163000</td>\n",
       "      <td>1950058</td>\n",
       "      <td>8.947507</td>\n",
       "      <td>T0:0 T1:1</td>\n",
       "      <td>T0:0 T1:1 T8:2</td>\n",
       "    </tr>\n",
       "    <tr>\n",
       "      <th>1</th>\n",
       "      <td>1950058</td>\n",
       "      <td>1992159</td>\n",
       "      <td>9.263532</td>\n",
       "      <td>T0:0 T1:1 T8:2</td>\n",
       "      <td>T0:0 T1:1134</td>\n",
       "    </tr>\n",
       "    <tr>\n",
       "      <th>2</th>\n",
       "      <td>3603369</td>\n",
       "      <td>6579303</td>\n",
       "      <td>3.306734</td>\n",
       "      <td>T0:0 T1:1</td>\n",
       "      <td>T0:0 T1:60 T8:0</td>\n",
       "    </tr>\n",
       "    <tr>\n",
       "      <th>3</th>\n",
       "      <td>1386558</td>\n",
       "      <td>1950058</td>\n",
       "      <td>1.758797</td>\n",
       "      <td>T0:0 T1:34 T8:1</td>\n",
       "      <td>T0:0 T1:1 T8:2</td>\n",
       "    </tr>\n",
       "    <tr>\n",
       "      <th>4</th>\n",
       "      <td>5492245</td>\n",
       "      <td>2019089</td>\n",
       "      <td>0.910239</td>\n",
       "      <td>T0:0 T1:801 T8:1</td>\n",
       "      <td>T0:0 T1:92</td>\n",
       "    </tr>\n",
       "  </tbody>\n",
       "</table>\n",
       "</div>"
      ],
      "text/plain": [
       "         n        v  sim_score            attr_n           attr_v\n",
       "0   163000  1950058   8.947507         T0:0 T1:1   T0:0 T1:1 T8:2\n",
       "1  1950058  1992159   9.263532    T0:0 T1:1 T8:2     T0:0 T1:1134\n",
       "2  3603369  6579303   3.306734         T0:0 T1:1  T0:0 T1:60 T8:0\n",
       "3  1386558  1950058   1.758797   T0:0 T1:34 T8:1   T0:0 T1:1 T8:2\n",
       "4  5492245  2019089   0.910239  T0:0 T1:801 T8:1       T0:0 T1:92"
      ]
     },
     "execution_count": 54,
     "metadata": {},
     "output_type": "execute_result"
    }
   ],
   "source": [
    "# Drop uneeded columns and rename \n",
    "homophily_test.drop(['id_x', 'id_y'], inplace=True, axis=1)\n",
    "homophily_test.columns = ['n', 'v', 'sim_score', 'attr_n', 'attr_v']\n",
    "# Check\n",
    "homophily_test.head()"
   ]
  },
  {
   "cell_type": "code",
   "execution_count": 55,
   "metadata": {},
   "outputs": [
    {
     "data": {
      "text/html": [
       "<div>\n",
       "<style scoped>\n",
       "    .dataframe tbody tr th:only-of-type {\n",
       "        vertical-align: middle;\n",
       "    }\n",
       "\n",
       "    .dataframe tbody tr th {\n",
       "        vertical-align: top;\n",
       "    }\n",
       "\n",
       "    .dataframe thead th {\n",
       "        text-align: right;\n",
       "    }\n",
       "</style>\n",
       "<table border=\"1\" class=\"dataframe\">\n",
       "  <thead>\n",
       "    <tr style=\"text-align: right;\">\n",
       "      <th></th>\n",
       "      <th>n</th>\n",
       "      <th>v</th>\n",
       "      <th>sim_score</th>\n",
       "      <th>attr_n</th>\n",
       "      <th>attr_v</th>\n",
       "      <th>NE</th>\n",
       "    </tr>\n",
       "  </thead>\n",
       "  <tbody>\n",
       "    <tr>\n",
       "      <th>0</th>\n",
       "      <td>163000</td>\n",
       "      <td>1950058</td>\n",
       "      <td>8.947507</td>\n",
       "      <td>T0:0 T1:1</td>\n",
       "      <td>T0:0 T1:1 T8:2</td>\n",
       "      <td>False</td>\n",
       "    </tr>\n",
       "    <tr>\n",
       "      <th>1</th>\n",
       "      <td>1950058</td>\n",
       "      <td>1992159</td>\n",
       "      <td>9.263532</td>\n",
       "      <td>T0:0 T1:1 T8:2</td>\n",
       "      <td>T0:0 T1:1134</td>\n",
       "      <td>False</td>\n",
       "    </tr>\n",
       "    <tr>\n",
       "      <th>2</th>\n",
       "      <td>3603369</td>\n",
       "      <td>6579303</td>\n",
       "      <td>3.306734</td>\n",
       "      <td>T0:0 T1:1</td>\n",
       "      <td>T0:0 T1:60 T8:0</td>\n",
       "      <td>False</td>\n",
       "    </tr>\n",
       "    <tr>\n",
       "      <th>3</th>\n",
       "      <td>1386558</td>\n",
       "      <td>1950058</td>\n",
       "      <td>1.758797</td>\n",
       "      <td>T0:0 T1:34 T8:1</td>\n",
       "      <td>T0:0 T1:1 T8:2</td>\n",
       "      <td>False</td>\n",
       "    </tr>\n",
       "    <tr>\n",
       "      <th>4</th>\n",
       "      <td>5492245</td>\n",
       "      <td>2019089</td>\n",
       "      <td>0.910239</td>\n",
       "      <td>T0:0 T1:801 T8:1</td>\n",
       "      <td>T0:0 T1:92</td>\n",
       "      <td>False</td>\n",
       "    </tr>\n",
       "  </tbody>\n",
       "</table>\n",
       "</div>"
      ],
      "text/plain": [
       "         n        v  sim_score            attr_n           attr_v     NE\n",
       "0   163000  1950058   8.947507         T0:0 T1:1   T0:0 T1:1 T8:2  False\n",
       "1  1950058  1992159   9.263532    T0:0 T1:1 T8:2     T0:0 T1:1134  False\n",
       "2  3603369  6579303   3.306734         T0:0 T1:1  T0:0 T1:60 T8:0  False\n",
       "3  1386558  1950058   1.758797   T0:0 T1:34 T8:1   T0:0 T1:1 T8:2  False\n",
       "4  5492245  2019089   0.910239  T0:0 T1:801 T8:1       T0:0 T1:92  False"
      ]
     },
     "execution_count": 55,
     "metadata": {},
     "output_type": "execute_result"
    }
   ],
   "source": [
    "# If attributes are equal, assign True, else False\n",
    "homophily_test = homophily_test.assign(NE=homophily_test['attr_n'] == homophily_test['attr_v'])\n",
    "# Check\n",
    "homophily_test.head()"
   ]
  },
  {
   "cell_type": "code",
   "execution_count": 56,
   "metadata": {},
   "outputs": [
    {
     "data": {
      "text/plain": [
       "False    60\n",
       "True     11\n",
       "Name: NE, dtype: int64"
      ]
     },
     "execution_count": 56,
     "metadata": {},
     "output_type": "execute_result"
    }
   ],
   "source": [
    "homophily_test['NE'].value_counts()"
   ]
  },
  {
   "cell_type": "code",
   "execution_count": 57,
   "metadata": {},
   "outputs": [],
   "source": [
    "false_pred = homophily_test[homophily_test.NE == False].sim_score\n",
    "true_pred = homophily_test[homophily_test.NE == True].sim_score"
   ]
  },
  {
   "cell_type": "code",
   "execution_count": 69,
   "metadata": {},
   "outputs": [
    {
     "data": {
      "image/png": "[encoded data removed]",
      "text/plain": [
       "<Figure size 1080x648 with 1 Axes>"
      ]
     },
     "metadata": {},
     "output_type": "display_data"
    }
   ],
   "source": [
    "import matplotlib.pyplot as plt\n",
    "%matplotlib inline\n",
    "import seaborn as sns\n",
    "\n",
    "# Set the style of seaborn plot\n",
    "sns.set(style='darkgrid', palette='husl', font_scale=1.5)\n",
    "\n",
    "# Create matplotlib Figure and Axes object\n",
    "f, ax = plt.subplots(figsize=(15,9))\n",
    "\n",
    "# Create the plot\n",
    "g = sns.distplot(false_pred.tolist())\n",
    "\n",
    "# Fine Tuning font size\n",
    "g.set_xlabel('similarity score', fontsize=20)\n",
    "# g.set_ylabel('Number of Nodes', fontsize=20)\n",
    "g.axes.set_title('Similarity scores for most similar nodes with different attributes', fontsize=30)\n",
    "\n",
    "# Display\n",
    "plt.show(g)\n",
    "\n",
    "# Save File\n",
    "fig = g.get_figure()\n",
    "fig.savefig('./{}.png'.format('ave_degree_distribution_diff_attributes'))"
   ]
  },
  {
   "cell_type": "code",
   "execution_count": 70,
   "metadata": {},
   "outputs": [
    {
     "data": {
      "image/png": "[encoded data removed]",
      "text/plain": [
       "<Figure size 1080x648 with 1 Axes>"
      ]
     },
     "metadata": {},
     "output_type": "display_data"
    }
   ],
   "source": [
    "import matplotlib.pyplot as plt\n",
    "%matplotlib inline\n",
    "import seaborn as sns\n",
    "\n",
    "# Set the style of seaborn plot\n",
    "sns.set(style='darkgrid', palette='husl', font_scale=1.5)\n",
    "\n",
    "# Create matplotlib Figure and Axes object\n",
    "f, ax = plt.subplots(figsize=(15,9))\n",
    "\n",
    "# Create the plot\n",
    "g = sns.distplot(true_pred.tolist())\n",
    "\n",
    "# Fine Tuning font size\n",
    "g.set_xlabel('similarity score', fontsize=20)\n",
    "# g.set_ylabel('Number of Nodes', fontsize=20)\n",
    "g.axes.set_title('Similarity scores for most similar nodes with same attributes', fontsize=30)\n",
    "\n",
    "# Display\n",
    "plt.show(g)\n",
    "\n",
    "# Save File\n",
    "fig = g.get_figure()\n",
    "fig.savefig('./{}.png'.format('ave_degree_distribution_same_attributes'))"
   ]
  },
  {
   "cell_type": "code",
   "execution_count": 71,
   "metadata": {},
   "outputs": [
    {
     "data": {
      "text/html": [
       "<div>\n",
       "<style scoped>\n",
       "    .dataframe tbody tr th:only-of-type {\n",
       "        vertical-align: middle;\n",
       "    }\n",
       "\n",
       "    .dataframe tbody tr th {\n",
       "        vertical-align: top;\n",
       "    }\n",
       "\n",
       "    .dataframe thead th {\n",
       "        text-align: right;\n",
       "    }\n",
       "</style>\n",
       "<table border=\"1\" class=\"dataframe\">\n",
       "  <thead>\n",
       "    <tr style=\"text-align: right;\">\n",
       "      <th></th>\n",
       "      <th>n</th>\n",
       "      <th>v</th>\n",
       "      <th>sim_score</th>\n",
       "      <th>attr_n</th>\n",
       "      <th>attr_v</th>\n",
       "      <th>NE</th>\n",
       "    </tr>\n",
       "  </thead>\n",
       "  <tbody>\n",
       "    <tr>\n",
       "      <th>60</th>\n",
       "      <td>3334731</td>\n",
       "      <td>163000</td>\n",
       "      <td>5.769897</td>\n",
       "      <td>T0:0 T1:1</td>\n",
       "      <td>T0:0 T1:1</td>\n",
       "      <td>True</td>\n",
       "    </tr>\n",
       "    <tr>\n",
       "      <th>42</th>\n",
       "      <td>1747109</td>\n",
       "      <td>3848051</td>\n",
       "      <td>4.571465</td>\n",
       "      <td>T0:0 T1:1</td>\n",
       "      <td>T0:0 T1:1</td>\n",
       "      <td>True</td>\n",
       "    </tr>\n",
       "    <tr>\n",
       "      <th>40</th>\n",
       "      <td>6012432</td>\n",
       "      <td>1648311</td>\n",
       "      <td>3.570321</td>\n",
       "      <td>T0:0 T1:1</td>\n",
       "      <td>T0:0 T1:1</td>\n",
       "      <td>True</td>\n",
       "    </tr>\n",
       "    <tr>\n",
       "      <th>39</th>\n",
       "      <td>1981318</td>\n",
       "      <td>163000</td>\n",
       "      <td>2.658527</td>\n",
       "      <td>T0:0 T1:1</td>\n",
       "      <td>T0:0 T1:1</td>\n",
       "      <td>True</td>\n",
       "    </tr>\n",
       "    <tr>\n",
       "      <th>23</th>\n",
       "      <td>3820833</td>\n",
       "      <td>3334731</td>\n",
       "      <td>1.766373</td>\n",
       "      <td>T0:0 T1:1</td>\n",
       "      <td>T0:0 T1:1</td>\n",
       "      <td>True</td>\n",
       "    </tr>\n",
       "    <tr>\n",
       "      <th>10</th>\n",
       "      <td>1644653</td>\n",
       "      <td>4425527</td>\n",
       "      <td>1.442695</td>\n",
       "      <td>T0:0 T1:1041</td>\n",
       "      <td>T0:0 T1:1041</td>\n",
       "      <td>True</td>\n",
       "    </tr>\n",
       "    <tr>\n",
       "      <th>45</th>\n",
       "      <td>1101787</td>\n",
       "      <td>1644653</td>\n",
       "      <td>1.442695</td>\n",
       "      <td>T0:0 T1:1041</td>\n",
       "      <td>T0:0 T1:1041</td>\n",
       "      <td>True</td>\n",
       "    </tr>\n",
       "    <tr>\n",
       "      <th>58</th>\n",
       "      <td>4425527</td>\n",
       "      <td>1644653</td>\n",
       "      <td>1.442695</td>\n",
       "      <td>T0:0 T1:1041</td>\n",
       "      <td>T0:0 T1:1041</td>\n",
       "      <td>True</td>\n",
       "    </tr>\n",
       "    <tr>\n",
       "      <th>69</th>\n",
       "      <td>2391232</td>\n",
       "      <td>5261893</td>\n",
       "      <td>0.991117</td>\n",
       "      <td>T0:0 T1:1</td>\n",
       "      <td>T0:0 T1:1</td>\n",
       "      <td>True</td>\n",
       "    </tr>\n",
       "    <tr>\n",
       "      <th>12</th>\n",
       "      <td>3717094</td>\n",
       "      <td>1648311</td>\n",
       "      <td>0.417032</td>\n",
       "      <td>T0:0 T1:1</td>\n",
       "      <td>T0:0 T1:1</td>\n",
       "      <td>True</td>\n",
       "    </tr>\n",
       "  </tbody>\n",
       "</table>\n",
       "</div>"
      ],
      "text/plain": [
       "          n        v  sim_score        attr_n        attr_v    NE\n",
       "60  3334731   163000   5.769897     T0:0 T1:1     T0:0 T1:1  True\n",
       "42  1747109  3848051   4.571465     T0:0 T1:1     T0:0 T1:1  True\n",
       "40  6012432  1648311   3.570321     T0:0 T1:1     T0:0 T1:1  True\n",
       "39  1981318   163000   2.658527     T0:0 T1:1     T0:0 T1:1  True\n",
       "23  3820833  3334731   1.766373     T0:0 T1:1     T0:0 T1:1  True\n",
       "10  1644653  4425527   1.442695  T0:0 T1:1041  T0:0 T1:1041  True\n",
       "45  1101787  1644653   1.442695  T0:0 T1:1041  T0:0 T1:1041  True\n",
       "58  4425527  1644653   1.442695  T0:0 T1:1041  T0:0 T1:1041  True\n",
       "69  2391232  5261893   0.991117     T0:0 T1:1     T0:0 T1:1  True\n",
       "12  3717094  1648311   0.417032     T0:0 T1:1     T0:0 T1:1  True"
      ]
     },
     "execution_count": 71,
     "metadata": {},
     "output_type": "execute_result"
    }
   ],
   "source": [
    "# True AttributePredictions \n",
    "homophily_test[homophily_test.NE == True].sort_values('sim_score', ascending=False).head(10)"
   ]
  },
  {
   "cell_type": "code",
   "execution_count": 72,
   "metadata": {},
   "outputs": [
    {
     "data": {
      "text/html": [
       "<div>\n",
       "<style scoped>\n",
       "    .dataframe tbody tr th:only-of-type {\n",
       "        vertical-align: middle;\n",
       "    }\n",
       "\n",
       "    .dataframe tbody tr th {\n",
       "        vertical-align: top;\n",
       "    }\n",
       "\n",
       "    .dataframe thead th {\n",
       "        text-align: right;\n",
       "    }\n",
       "</style>\n",
       "<table border=\"1\" class=\"dataframe\">\n",
       "  <thead>\n",
       "    <tr style=\"text-align: right;\">\n",
       "      <th></th>\n",
       "      <th>n</th>\n",
       "      <th>v</th>\n",
       "      <th>sim_score</th>\n",
       "      <th>attr_n</th>\n",
       "      <th>attr_v</th>\n",
       "      <th>NE</th>\n",
       "    </tr>\n",
       "  </thead>\n",
       "  <tbody>\n",
       "    <tr>\n",
       "      <th>49</th>\n",
       "      <td>6579303</td>\n",
       "      <td>1992159</td>\n",
       "      <td>9.906461</td>\n",
       "      <td>T0:0 T1:60 T8:0</td>\n",
       "      <td>T0:0 T1:1134</td>\n",
       "      <td>False</td>\n",
       "    </tr>\n",
       "    <tr>\n",
       "      <th>8</th>\n",
       "      <td>1992159</td>\n",
       "      <td>6579303</td>\n",
       "      <td>9.906461</td>\n",
       "      <td>T0:0 T1:1134</td>\n",
       "      <td>T0:0 T1:60 T8:0</td>\n",
       "      <td>False</td>\n",
       "    </tr>\n",
       "    <tr>\n",
       "      <th>34</th>\n",
       "      <td>3848051</td>\n",
       "      <td>1992159</td>\n",
       "      <td>9.272437</td>\n",
       "      <td>T0:0 T1:1</td>\n",
       "      <td>T0:0 T1:1134</td>\n",
       "      <td>False</td>\n",
       "    </tr>\n",
       "    <tr>\n",
       "      <th>1</th>\n",
       "      <td>1950058</td>\n",
       "      <td>1992159</td>\n",
       "      <td>9.263532</td>\n",
       "      <td>T0:0 T1:1 T8:2</td>\n",
       "      <td>T0:0 T1:1134</td>\n",
       "      <td>False</td>\n",
       "    </tr>\n",
       "    <tr>\n",
       "      <th>50</th>\n",
       "      <td>616018</td>\n",
       "      <td>6579303</td>\n",
       "      <td>9.118332</td>\n",
       "      <td>T0:0 T1:1 T8:2</td>\n",
       "      <td>T0:0 T1:60 T8:0</td>\n",
       "      <td>False</td>\n",
       "    </tr>\n",
       "    <tr>\n",
       "      <th>52</th>\n",
       "      <td>2551705</td>\n",
       "      <td>1950058</td>\n",
       "      <td>9.085753</td>\n",
       "      <td>T0:0 T1:1 T8:1</td>\n",
       "      <td>T0:0 T1:1 T8:2</td>\n",
       "      <td>False</td>\n",
       "    </tr>\n",
       "    <tr>\n",
       "      <th>0</th>\n",
       "      <td>163000</td>\n",
       "      <td>1950058</td>\n",
       "      <td>8.947507</td>\n",
       "      <td>T0:0 T1:1</td>\n",
       "      <td>T0:0 T1:1 T8:2</td>\n",
       "      <td>False</td>\n",
       "    </tr>\n",
       "    <tr>\n",
       "      <th>43</th>\n",
       "      <td>4923461</td>\n",
       "      <td>1950058</td>\n",
       "      <td>8.922026</td>\n",
       "      <td>T0:0 T1:1</td>\n",
       "      <td>T0:0 T1:1 T8:2</td>\n",
       "      <td>False</td>\n",
       "    </tr>\n",
       "    <tr>\n",
       "      <th>32</th>\n",
       "      <td>5000153</td>\n",
       "      <td>1950058</td>\n",
       "      <td>8.702294</td>\n",
       "      <td>T0:0 T1:1</td>\n",
       "      <td>T0:0 T1:1 T8:2</td>\n",
       "      <td>False</td>\n",
       "    </tr>\n",
       "    <tr>\n",
       "      <th>36</th>\n",
       "      <td>6004908</td>\n",
       "      <td>2551705</td>\n",
       "      <td>8.682391</td>\n",
       "      <td>T0:0 T1:1</td>\n",
       "      <td>T0:0 T1:1 T8:1</td>\n",
       "      <td>False</td>\n",
       "    </tr>\n",
       "  </tbody>\n",
       "</table>\n",
       "</div>"
      ],
      "text/plain": [
       "          n        v  sim_score           attr_n           attr_v     NE\n",
       "49  6579303  1992159   9.906461  T0:0 T1:60 T8:0     T0:0 T1:1134  False\n",
       "8   1992159  6579303   9.906461     T0:0 T1:1134  T0:0 T1:60 T8:0  False\n",
       "34  3848051  1992159   9.272437        T0:0 T1:1     T0:0 T1:1134  False\n",
       "1   1950058  1992159   9.263532   T0:0 T1:1 T8:2     T0:0 T1:1134  False\n",
       "50   616018  6579303   9.118332   T0:0 T1:1 T8:2  T0:0 T1:60 T8:0  False\n",
       "52  2551705  1950058   9.085753   T0:0 T1:1 T8:1   T0:0 T1:1 T8:2  False\n",
       "0    163000  1950058   8.947507        T0:0 T1:1   T0:0 T1:1 T8:2  False\n",
       "43  4923461  1950058   8.922026        T0:0 T1:1   T0:0 T1:1 T8:2  False\n",
       "32  5000153  1950058   8.702294        T0:0 T1:1   T0:0 T1:1 T8:2  False\n",
       "36  6004908  2551705   8.682391        T0:0 T1:1   T0:0 T1:1 T8:1  False"
      ]
     },
     "execution_count": 72,
     "metadata": {},
     "output_type": "execute_result"
    }
   ],
   "source": [
    "# False Attribute Predictions \n",
    "homophily_test[homophily_test.NE == False].sort_values('sim_score', ascending=False).head(10)"
   ]
  },
  {
   "cell_type": "markdown",
   "metadata": {},
   "source": [
    "For the particular dataset, homophily does not appear to hold well. Again, homophily in a social context explains that people who share similarities in socially significant ways are more likely to be linked. A subgraph of the original graph was created using the neighboring nodes of a randomly selected node. For each node in the subgraph, we calculated the similarity scores with its neighbors (if any), and returned the highest similarity score which was plotted on a histogram. It appears that most of the similarity scores were on the lower end (right-skewed) except a few with high similarity scores, and most nodes did not share the same attributes as only 11 of 71 nodes did. Of nodes with matching attributes, it seems the majority had low similarity scores as well (right-skewed). \n",
    "\n",
    "# Future Approaches \n",
    "\n",
    "For the next steps, I would like to revise my current approach for attribute predictions and see how the algorithm can be improved by taking into account attribute trends. From observing the data, I realized that out of the three classes of attributes (T0, T1, and T8), T0 and T1 were far more prevalent than T8. Perhaps, in real life social network, T0 and T1 are attributes much more common among users, whereas T8 is rarer and much more specific. For example, in LinkedIn, T0 could be a user’s educational background which, whereas T8 could be a professional certification a user has obtained. On a business professional network, ones educational background is a common attribute included in many profiles, but much fewer individuals may have certifications listed, such as being certified doctor, lifeguard, lawyer, etc. \n",
    " \n",
    "For more common classes of attributes (T0, T1), I could develop an algorithm that counts and assigns the most common attribute shared among all nearest neighbors. For example, in a given scenario, if T0:1 was more common than T0:2 out of all nearest neighbors, then inherit T0:1. \n",
    "\n",
    "For rarer classes of attributes (T8), I would use my current method of inheriting the attribute of the most similar neighbor as calculated by the Adamic/Adar algorithm. In cases where multiple nodes have the same similarity score and also have different variations of the rare attribute, I could either select the winning attribute randomly or by frequency (e.g., T8:213 might be more common than T8:121, so inherit T8:213).\n",
    "\n",
    "Treat attributes as itemsets which can be used to build association rules (e.g, If T0:12 and T1:334 are present, then T8:123 is also likely to be present). \n",
    "\n",
    "Additionally, I would like to explore other network based algorithms that may improve the performance (BFS, DFS, eigenvector centrality, etc). "
   ]
  }
 ],
 "metadata": {
  "kernelspec": {
   "display_name": "Python 3",
   "language": "python",
   "name": "python3"
  },
  "language_info": {
   "codemirror_mode": {
    "name": "ipython",
    "version": 3
   },
   "file_extension": ".py",
   "mimetype": "text/x-python",
   "name": "python",
   "nbconvert_exporter": "python",
   "pygments_lexer": "ipython3",
   "version": "3.7.0"
  }
 },
 "nbformat": 4,
 "nbformat_minor": 2
}
