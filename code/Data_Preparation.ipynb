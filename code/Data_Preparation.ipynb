{
 "cells": [
  {
   "cell_type": "markdown",
   "metadata": {},
   "source": [
    "# Data Preparation\n",
    "*Notebook Author: Koki Sasagawa*  \n",
    "*Date: 11/14/2018*\n",
    "\n",
    "Prepare data for link prediction task\n",
    "\n",
    "## Data:\n",
    "`network.tsv` - large social network specified in edge list format \n",
    "   - two columns: each column is label for a node in the graph\n",
    "   - undirected graph\n",
    "   - nodes assigned random numeric ID that have no special meaning"
   ]
  },
  {
   "cell_type": "code",
   "execution_count": 1,
   "metadata": {},
   "outputs": [],
   "source": [
    "import pandas as pd\n",
    "import numpy as np\n",
    "import networkx as nx\n",
    "import time\n",
    "from decorators import timer"
   ]
  },
  {
   "cell_type": "markdown",
   "metadata": {},
   "source": [
    "## 1. Read network tsv file and create graph"
   ]
  },
  {
   "cell_type": "code",
   "execution_count": 2,
   "metadata": {},
   "outputs": [
    {
     "name": "stdout",
     "output_type": "stream",
     "text": [
      "Creating network graph...\n",
      "Network graph created. Process took 260.0808 seconds\n",
      "Number of edges: 30915267\n",
      "Number of nodes: 6626753\n"
     ]
    }
   ],
   "source": [
    "print(\"Creating network graph...\")\n",
    "start_time = time.perf_counter() \n",
    "\n",
    "with open(\"../raw_data/network.tsv\", 'rb') as f:\n",
    "    grph = nx.read_edgelist(path=f, delimiter='\\t', encoding='utf8')\n",
    "\n",
    "end_time = time.perf_counter()\n",
    "print(\"Network graph created. Process took {:.4f} seconds\".format(end_time - start_time))\n",
    "\n",
    "# Check that graph is of correct size\n",
    "print(\"Number of edges: {}\".format(grph.number_of_edges())) # There should be 30915267\n",
    "print(\"Number of nodes: {}\".format(grph.number_of_nodes())) # There should be 6626753"
   ]
  },
  {
   "cell_type": "markdown",
   "metadata": {},
   "source": [
    "## 2. Generate the adjacency list and save as text file \n",
    "\n",
    "This function was created using the following example on stackoverflow as reference:\n",
    "\n",
    "Stack Overflow. (n.d.). Write a Graph into a file in an adjacency list form [mentioning all neighbors of each node in each line] [online] Available at: https://stackoverflow.com/questions/34917550/write-a-graph-into-a-file-in-an-adjacency-list-form-mentioning-all-neighbors-of [Accessed 18 Dec. 2018]."
   ]
  },
  {
   "cell_type": "code",
   "execution_count": 3,
   "metadata": {},
   "outputs": [],
   "source": [
    "def save_adjacency_list(graph, file_name):\n",
    "    '''Create adjacency list containing all neighbors of \n",
    "    each node in each line and save as text file\n",
    "\n",
    "    :params graph: network graph\n",
    "    :type graph: networkx.classes.graph.Graph\n",
    "    :params file_name: file name and location to be saved \n",
    "    :type file_name: str\n",
    "    :returns: adjacency list as text file \n",
    "    '''\n",
    "\n",
    "    with open(file_name, \"w\") as f:\n",
    "        for n in graph.nodes():\n",
    "            f.write(str(n) + ',')\n",
    "            for neighbor in graph.neighbors(n):\n",
    "                f.write(str(neighbor) + ' ')\n",
    "            f.write('\\n')      "
   ]
  },
  {
   "cell_type": "code",
   "execution_count": 4,
   "metadata": {},
   "outputs": [],
   "source": [
    "save_adjacency_list(grph, '../temp_data/adjacency_list.txt')"
   ]
  },
  {
   "cell_type": "code",
   "execution_count": null,
   "metadata": {},
   "outputs": [],
   "source": []
  }
 ],
 "metadata": {
  "kernelspec": {
   "display_name": "Python 3",
   "language": "python",
   "name": "python3"
  },
  "language_info": {
   "codemirror_mode": {
    "name": "ipython",
    "version": 3
   },
   "file_extension": ".py",
   "mimetype": "text/x-python",
   "name": "python",
   "nbconvert_exporter": "python",
   "pygments_lexer": "ipython3",
   "version": "3.7.0"
  }
 },
 "nbformat": 4,
 "nbformat_minor": 2
}
